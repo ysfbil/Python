{
 "cells": [
  {
   "cell_type": "code",
   "execution_count": 2,
   "id": "588bbe0e",
   "metadata": {},
   "outputs": [
    {
     "name": "stdout",
     "output_type": "stream",
     "text": [
      "{'1': 1024}\n"
     ]
    }
   ],
   "source": [
    "from qiskit import QuantumRegister, ClassicalRegister, QuantumCircuit\n",
    "from qiskit import execute, Aer\n",
    "\n",
    "q =  QuantumRegister(1) \n",
    "c = ClassicalRegister(1) \n",
    "qc = QuantumCircuit(q,c)\n",
    "\n",
    "qc.x(q[0])\n",
    "\n",
    "qc.measure(q[0],c[0])\n",
    "job = execute(qc,Aer.get_backend('qasm_simulator'),shots=1024)\n",
    "counts = job.result().get_counts(qc)\n",
    "print(counts) # counts is a dictionary"
   ]
  },
  {
   "cell_type": "code",
   "execution_count": 12,
   "id": "b2a789c6",
   "metadata": {},
   "outputs": [
    {
     "name": "stdout",
     "output_type": "stream",
     "text": [
      "{'01': 100}\n"
     ]
    }
   ],
   "source": [
    "q2 = QuantumRegister(2,\"qreg\")\n",
    "c2 = ClassicalRegister(2,\"creg\")\n",
    "qc2 = QuantumCircuit(q2,c2)\n",
    "\n",
    "qc2.x(q2[0]) #ilk kuantum bitininin tersini al (varsayılan değeri 1)\n",
    "\n",
    "\n",
    "qc2.measure(q2,c2)\n",
    "job = execute(qc2,Aer.get_backend('qasm_simulator'),shots=100)\n",
    "counts = job.result().get_counts(qc2)\n",
    "print(counts) # counts is a dictionary"
   ]
  },
  {
   "cell_type": "code",
   "execution_count": 4,
   "id": "66780d57",
   "metadata": {},
   "outputs": [
    {
     "data": {
      "text/plain": [
       "QuantumRegister(2, 'qreg')"
      ]
     },
     "execution_count": 4,
     "metadata": {},
     "output_type": "execute_result"
    }
   ],
   "source": [
    "q2"
   ]
  },
  {
   "cell_type": "code",
   "execution_count": 5,
   "id": "04da6447",
   "metadata": {},
   "outputs": [
    {
     "data": {
      "text/plain": [
       "Qubit(QuantumRegister(2, 'qreg'), 0)"
      ]
     },
     "execution_count": 5,
     "metadata": {},
     "output_type": "execute_result"
    }
   ],
   "source": [
    "q2[0]"
   ]
  },
  {
   "cell_type": "code",
   "execution_count": 6,
   "id": "48426a4c",
   "metadata": {},
   "outputs": [
    {
     "data": {
      "text/plain": [
       "Qubit(QuantumRegister(2, 'qreg'), 1)"
      ]
     },
     "execution_count": 6,
     "metadata": {},
     "output_type": "execute_result"
    }
   ],
   "source": [
    "q2[1]"
   ]
  },
  {
   "cell_type": "code",
   "execution_count": null,
   "id": "07df0f6e",
   "metadata": {},
   "outputs": [],
   "source": []
  }
 ],
 "metadata": {
  "kernelspec": {
   "display_name": "Python 3 (ipykernel)",
   "language": "python",
   "name": "python3"
  },
  "language_info": {
   "codemirror_mode": {
    "name": "ipython",
    "version": 3
   },
   "file_extension": ".py",
   "mimetype": "text/x-python",
   "name": "python",
   "nbconvert_exporter": "python",
   "pygments_lexer": "ipython3",
   "version": "3.10.4"
  }
 },
 "nbformat": 4,
 "nbformat_minor": 5
}
