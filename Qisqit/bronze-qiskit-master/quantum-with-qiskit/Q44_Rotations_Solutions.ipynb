{
 "cells": [
  {
   "cell_type": "markdown",
   "metadata": {},
   "source": [
    "<a href=\"https://qworld.net\" target=\"_blank\" align=\"left\"><img src=\"../qworld/images/header.jpg\"  align=\"left\"></a>\n",
    "$ \\newcommand{\\bra}[1]{\\langle #1|} $\n",
    "$ \\newcommand{\\ket}[1]{|#1\\rangle} $\n",
    "$ \\newcommand{\\braket}[2]{\\langle #1|#2\\rangle} $\n",
    "$ \\newcommand{\\dot}[2]{ #1 \\cdot #2} $\n",
    "$ \\newcommand{\\biginner}[2]{\\left\\langle #1,#2\\right\\rangle} $\n",
    "$ \\newcommand{\\mymatrix}[2]{\\left( \\begin{array}{#1} #2\\end{array} \\right)} $\n",
    "$ \\newcommand{\\myvector}[1]{\\mymatrix{c}{#1}} $\n",
    "$ \\newcommand{\\myrvector}[1]{\\mymatrix{r}{#1}} $\n",
    "$ \\newcommand{\\mypar}[1]{\\left( #1 \\right)} $\n",
    "$ \\newcommand{\\mybigpar}[1]{ \\Big( #1 \\Big)} $\n",
    "$ \\newcommand{\\sqrttwo}{\\frac{1}{\\sqrt{2}}} $\n",
    "$ \\newcommand{\\dsqrttwo}{\\dfrac{1}{\\sqrt{2}}} $\n",
    "$ \\newcommand{\\onehalf}{\\frac{1}{2}} $\n",
    "$ \\newcommand{\\donehalf}{\\dfrac{1}{2}} $\n",
    "$ \\newcommand{\\hadamard}{ \\mymatrix{rr}{ \\sqrttwo & \\sqrttwo \\\\ \\sqrttwo & -\\sqrttwo }} $\n",
    "$ \\newcommand{\\vzero}{\\myvector{1\\\\0}} $\n",
    "$ \\newcommand{\\vone}{\\myvector{0\\\\1}} $\n",
    "$ \\newcommand{\\stateplus}{\\myvector{ \\sqrttwo \\\\  \\sqrttwo } } $\n",
    "$ \\newcommand{\\stateminus}{ \\myrvector{ \\sqrttwo \\\\ -\\sqrttwo } } $\n",
    "$ \\newcommand{\\myarray}[2]{ \\begin{array}{#1}#2\\end{array}} $\n",
    "$ \\newcommand{\\X}{ \\mymatrix{cc}{0 & 1 \\\\ 1 & 0}  } $\n",
    "$ \\newcommand{\\I}{ \\mymatrix{rr}{1 & 0 \\\\ 0 & 1}  } $\n",
    "$ \\newcommand{\\Z}{ \\mymatrix{rr}{1 & 0 \\\\ 0 & -1}  } $\n",
    "$ \\newcommand{\\Htwo}{ \\mymatrix{rrrr}{ \\frac{1}{2} & \\frac{1}{2} & \\frac{1}{2} & \\frac{1}{2} \\\\ \\frac{1}{2} & -\\frac{1}{2} & \\frac{1}{2} & -\\frac{1}{2} \\\\ \\frac{1}{2} & \\frac{1}{2} & -\\frac{1}{2} & -\\frac{1}{2} \\\\ \\frac{1}{2} & -\\frac{1}{2} & -\\frac{1}{2} & \\frac{1}{2} } } $\n",
    "$ \\newcommand{\\CNOT}{ \\mymatrix{cccc}{1 & 0 & 0 & 0 \\\\ 0 & 1 & 0 & 0 \\\\ 0 & 0 & 0 & 1 \\\\ 0 & 0 & 1 & 0} } $\n",
    "$ \\newcommand{\\norm}[1]{ \\left\\lVert #1 \\right\\rVert } $\n",
    "$ \\newcommand{\\pstate}[1]{ \\lceil \\mspace{-1mu} #1 \\mspace{-1.5mu} \\rfloor } $\n",
    "$ \\newcommand{\\greenbit}[1] {\\mathbf{{\\color{green}#1}}} $\n",
    "$ \\newcommand{\\bluebit}[1] {\\mathbf{{\\color{blue}#1}}} $\n",
    "$ \\newcommand{\\redbit}[1] {\\mathbf{{\\color{red}#1}}} $\n",
    "$ \\newcommand{\\brownbit}[1] {\\mathbf{{\\color{brown}#1}}} $\n",
    "$ \\newcommand{\\blackbit}[1] {\\mathbf{{\\color{black}#1}}} $"
   ]
  },
  {
   "cell_type": "markdown",
   "metadata": {},
   "source": [
    "<font style=\"font-size:28px;\" align=\"left\"><b><font color=\"blue\"> Solutions for </font>Rotations  </b></font>\n",
    "<br>\n",
    "_prepared by Abuzer Yakaryilmaz_\n",
    "<br><br>"
   ]
  },
  {
   "cell_type": "markdown",
   "metadata": {},
   "source": [
    "<a id=\"task2\"></a>\n",
    "<h3> Task 2 </h3>\n",
    "\n",
    "Start with state $ \\ket{0} $. \n",
    "\n",
    "Apply $ R(\\pi/4) $ 7 times, and draw each state on the unit circle."
   ]
  },
  {
   "cell_type": "markdown",
   "metadata": {},
   "source": [
    "<h3>Solution</h3>"
   ]
  },
  {
   "cell_type": "code",
   "execution_count": 3,
   "metadata": {},
   "outputs": [
    {
     "data": {
      "image/png": "[encoded data removed]",
      "text/plain": [
       "<Figure size 360x360 with 1 Axes>"
      ]
     },
     "metadata": {
      "needs_background": "light"
     },
     "output_type": "display_data"
    }
   ],
   "source": [
    "%run quantum.py\n",
    "\n",
    "draw_qubit()\n",
    "\n",
    "[x,y]=[1,0]\n",
    "\n",
    "draw_quantum_state(x,y,\"v0\")\n",
    "\n",
    "sqrttwo = 2**0.5\n",
    "oversqrttwo = 1/sqrttwo\n",
    "\n",
    "R = [ [oversqrttwo, -1*oversqrttwo], [oversqrttwo,oversqrttwo] ]\n",
    "\n",
    "# function for rotation R\n",
    "def rotate(px,py):\n",
    "    newx = R[0][0]*px + R[0][1]*py\n",
    "    newy = R[1][0]*px + R[1][1]*py\n",
    "    return [newx,newy]\n",
    "\n",
    "# apply rotation R 7 times\n",
    "for i in range(1,8):\n",
    "    [x,y] = rotate(x,y)\n",
    "    draw_quantum_state(x,y,\"|v\"+str(i)+\">\")\n",
    "\n",
    "show_plt()"
   ]
  },
  {
   "cell_type": "markdown",
   "metadata": {},
   "source": [
    "<a id=\"task3\"></a>\n",
    "<h3> Task 3 </h3>\n",
    "\n",
    "We implement Task 2 by using \"ry-gate\" and \"statevector_simulator\".\n",
    "\n",
    "Define a quantum circuit with one qubit. \n",
    "\n",
    "Iterate seven times\n",
    "- Apply the rotation with angle $ \\pi \\over 4 $ by using ry-gate\n",
    "- Read the current quantum state\n",
    "- Print the current quantum state\n",
    "- Draw the quantum state on the unit circle by using the values of the current quantum state"
   ]
  },
  {
   "cell_type": "markdown",
   "metadata": {},
   "source": [
    "<h3>Solution</h3>"
   ]
  },
  {
   "cell_type": "code",
   "execution_count": 1,
   "metadata": {},
   "outputs": [
    {
     "name": "stdout",
     "output_type": "stream",
     "text": [
      "iteration 1 : the quantum state is ( 0.707 ) |0> +( 0.707 ) |1>\n",
      "iteration 2 : the quantum state is ( 0.0 ) |0> +( 1.0 ) |1>\n",
      "iteration 3 : the quantum state is ( -0.707 ) |0> +( 0.707 ) |1>\n",
      "iteration 4 : the quantum state is ( -1.0 ) |0> +( 0.0 ) |1>\n",
      "iteration 5 : the quantum state is ( -0.707 ) |0> +( -0.707 ) |1>\n",
      "iteration 6 : the quantum state is ( 0.0 ) |0> +( -1.0 ) |1>\n",
      "iteration 7 : the quantum state is ( 0.707 ) |0> +( -0.707 ) |1>\n"
     ]
    },
    {
     "data": {
      "image/png": "[encoded data removed]",
      "text/plain": [
       "<Figure size 360x360 with 1 Axes>"
      ]
     },
     "metadata": {
      "needs_background": "light"
     },
     "output_type": "display_data"
    }
   ],
   "source": [
    "%run quantum.py\n",
    "\n",
    "draw_qubit()\n",
    "\n",
    "[x,y]=[1,0]\n",
    "\n",
    "draw_quantum_state(x,y,\"v0\")\n",
    "\n",
    "from qiskit import QuantumRegister, ClassicalRegister, QuantumCircuit, execute, Aer\n",
    "from math import pi\n",
    "\n",
    "# we define a quantum circuit with one qubit and one bit\n",
    "q =  QuantumRegister(1) # quantum register with a single qubit\n",
    "c = ClassicalRegister(1) # classical register with a single bit\n",
    "qc = QuantumCircuit(q,c) # quantum circuit with quantum and classical registers\n",
    "\n",
    "rotation_angle = pi/4\n",
    "\n",
    "for i in range(1,8):\n",
    "    # rotate the qubit with angle pi/4\n",
    "    qc.ry(2*rotation_angle,q[0]) \n",
    "    \n",
    "    # read the current quantum state\n",
    "    job = execute(qc,Aer.get_backend('statevector_simulator'),optimization_level=0)\n",
    "    current_quantum_state=job.result().get_statevector(qc,3).data\n",
    "    \n",
    "    # print the current quantum state    \n",
    "    x_value = current_quantum_state[0].real # get the amplitude of |0>\n",
    "    y_value = current_quantum_state[1].real # get the amplitude of |1>\n",
    "    print(\"iteration\",i,\": the quantum state is (\",x_value,\") |0>\",\"+(\",y_value,\") |1>\")\n",
    "    \n",
    "    # draw the current quantum state\n",
    "    draw_quantum_state(x_value,y_value,\"|v\"+str(i)+\">\")\n",
    "\n",
    "show_plt()"
   ]
  },
  {
   "cell_type": "markdown",
   "metadata": {},
   "source": [
    "<a id=\"task4\"></a>\n",
    "<h3> Task 4 </h3>\n",
    "\n",
    "Repeat Task 3 for the angle $ \\pi/6 $ by applying the rotation 12 times. \n",
    "\n",
    "Repeat Task 3 for the angle $ 3\\pi/8 $ by applying the rotation 16 times. \n",
    "\n",
    "Repeat Task 3 for the angle $ \\sqrt{2}\\pi $ by applying the rotation 20 times. "
   ]
  },
  {
   "cell_type": "markdown",
   "metadata": {},
   "source": [
    "<h3>Solution</h3>"
   ]
  },
  {
   "cell_type": "markdown",
   "metadata": {},
   "source": [
    "Repeat Task 3 for the angle $ \\pi/6 $ by applying the rotation 12 times."
   ]
  },
  {
   "cell_type": "code",
   "execution_count": null,
   "metadata": {},
   "outputs": [],
   "source": [
    "%run quantum.py\n",
    "\n",
    "draw_qubit()\n",
    "\n",
    "from qiskit import QuantumRegister, ClassicalRegister, QuantumCircuit, execute, Aer\n",
    "from math import pi\n",
    "\n",
    "# we define a quantum circuit with one qubit and one bit\n",
    "q =  QuantumRegister(1) # quantum register with a single qubit\n",
    "c = ClassicalRegister(1) # classical register with a single bit\n",
    "qc = QuantumCircuit(q,c) # quantum circuit with quantum and classical registers\n",
    "\n",
    "rotation_angle = pi/6\n",
    "\n",
    "for i in range(1,13):\n",
    "    # rotate the qubit with the specified angle\n",
    "    qc.ry(2*rotation_angle,q[0]) \n",
    "    \n",
    "    # read the current quantum state\n",
    "    job = execute(qc,Aer.get_backend('statevector_simulator'),optimization_level=0)\n",
    "    current_quantum_state=job.result().get_statevector(qc,3).data\n",
    "    \n",
    "    # print the current quantum state    \n",
    "    x_value = current_quantum_state[0].real # get the amplitude of |0>\n",
    "    y_value = current_quantum_state[1].real # get the amplitude of |1>\n",
    "    print(\"iteration\",i,\": the quantum state is (\",x_value,\") |0>\",\"+(\",y_value,\") |1>\")\n",
    "    \n",
    "    # draw the current quantum state\n",
    "    draw_quantum_state(x_value,y_value,\"|v\"+str(i)+\">\")\n",
    "\n",
    "show_plt()"
   ]
  },
  {
   "cell_type": "markdown",
   "metadata": {},
   "source": [
    "Repeat Task 3 for the angle $ 3\\pi/8 $ by applying the rotation 16 times."
   ]
  },
  {
   "cell_type": "code",
   "execution_count": null,
   "metadata": {},
   "outputs": [],
   "source": [
    "%run quantum.py\n",
    "\n",
    "draw_qubit()\n",
    "\n",
    "from qiskit import QuantumRegister, ClassicalRegister, QuantumCircuit, execute, Aer\n",
    "from math import pi\n",
    "\n",
    "# we define a quantum circuit with one qubit and one bit\n",
    "q =  QuantumRegister(1) # quantum register with a single qubit\n",
    "c = ClassicalRegister(1) # classical register with a single bit\n",
    "qc = QuantumCircuit(q,c) # quantum circuit with quantum and classical registers\n",
    "\n",
    "rotation_angle = 3*pi/8\n",
    "\n",
    "for i in range(1,17):\n",
    "    # rotate the qubit with the specified angle\n",
    "    qc.ry(2*rotation_angle,q[0]) \n",
    "    \n",
    "    # read the current quantum state\n",
    "    job = execute(qc,Aer.get_backend('statevector_simulator'),optimization_level=0)\n",
    "    current_quantum_state=job.result().get_statevector(qc,3).data \n",
    "    \n",
    "    # print the current quantum state    \n",
    "    x_value = current_quantum_state[0].real # get the amplitude of |0>\n",
    "    y_value = current_quantum_state[1].real # get the amplitude of |1>\n",
    "    print(\"iteration\",i,\": the quantum state is (\",x_value,\") |0>\",\"+(\",y_value,\") |1>\")\n",
    "    \n",
    "    # draw the current quantum state\n",
    "    draw_quantum_state(x_value,y_value,\"|v\"+str(i)+\">\")\n",
    "\n",
    "show_plt()"
   ]
  },
  {
   "cell_type": "markdown",
   "metadata": {},
   "source": [
    "Repeat Task 3 for the angle $ \\sqrt{2}\\pi $ by applying the rotation 20 times. "
   ]
  },
  {
   "cell_type": "code",
   "execution_count": null,
   "metadata": {},
   "outputs": [],
   "source": [
    "%run quantum.py\n",
    "\n",
    "draw_qubit()\n",
    "\n",
    "from qiskit import QuantumRegister, ClassicalRegister, QuantumCircuit, execute, Aer\n",
    "from math import pi\n",
    "\n",
    "# we define a quantum circuit with one qubit and one bit\n",
    "q =  QuantumRegister(1) # quantum register with a single qubit\n",
    "c = ClassicalRegister(1) # classical register with a single bit\n",
    "qc = QuantumCircuit(q,c) # quantum circuit with quantum and classical registers\n",
    "\n",
    "rotation_angle = 2**(0.5) * pi\n",
    "\n",
    "for i in range(1,21):\n",
    "    # rotate the qubit with the specified angle\n",
    "    qc.ry(2*rotation_angle,q[0]) \n",
    "    \n",
    "    # read the current quantum state\n",
    "    job = execute(qc,Aer.get_backend('statevector_simulator'),optimization_level=0)\n",
    "    current_quantum_state=job.result().get_statevector(qc,3).data \n",
    "    \n",
    "    # print the current quantum state    \n",
    "    x_value = current_quantum_state[0].real # get the amplitude of |0>\n",
    "    y_value = current_quantum_state[1].real # get the amplitude of |1>\n",
    "    print(\"iteration\",i,\": the quantum state is (\",x_value,\") |0>\",\"+(\",y_value,\") |1>\")\n",
    "    \n",
    "    # draw the current quantum state\n",
    "    draw_quantum_state(x_value,y_value,\"|v\"+str(i)+\">\")\n",
    "\n",
    "show_plt()"
   ]
  },
  {
   "cell_type": "markdown",
   "metadata": {},
   "source": [
    "<a id=\"task6\"></a>\n",
    "<h3> Task 6 </h3>\n",
    "\n",
    "We randomly pick an angle $ \\theta \\in [0,2\\pi) $.\n",
    "\n",
    "We have two separate qubits initially set to state $ \\ket{0} $. \n",
    "\n",
    "The first qubit is rotated by the angle $ \\theta $ and the second qubit is rotated by the angle $ \\theta + \\pi/2 $.\n",
    "\n",
    "Implement each qubit and its rotation as a separate quantum circuit.\n",
    "\n",
    "Then, read both quantum states and calculate their dot product.\n",
    "\n",
    "Check the result of the dot product for different random angles."
   ]
  },
  {
   "cell_type": "markdown",
   "metadata": {},
   "source": [
    "<h3>Solution</h3>"
   ]
  },
  {
   "cell_type": "code",
   "execution_count": null,
   "metadata": {},
   "outputs": [],
   "source": [
    "from random import randrange\n",
    "from math import pi\n",
    "from qiskit import QuantumRegister, ClassicalRegister, QuantumCircuit, execute, Aer\n",
    "\n",
    "\n",
    "# implement the experiment 10 times\n",
    "for i in range(10):\n",
    "    # pick a random angle\n",
    "    random_angle = randrange(3600)/10\n",
    "\n",
    "    # specify the angles\n",
    "    rotation_angle1 = random_angle/360*2*pi\n",
    "    rotation_angle2 = rotation_angle1 + pi/2\n",
    "    \n",
    "    #\n",
    "    # first qubit\n",
    "    #\n",
    "    q1 =  QuantumRegister(1) \n",
    "    c1 = ClassicalRegister(1) \n",
    "    qc1 = QuantumCircuit(q1,c1)\n",
    "    \n",
    "    # rotate the qubit\n",
    "    qc1.ry(2 * rotation_angle1,q1[0])\n",
    "    \n",
    "    # read the quantum state\n",
    "    job = execute(qc1,Aer.get_backend('statevector_simulator'),optimization_level=0)\n",
    "    current_quantum_state1=job.result().get_statevector(qc1).data \n",
    "    [x1,y1]=[current_quantum_state1[0].real,current_quantum_state1[1].real]\n",
    "    \n",
    "    #\n",
    "    # second qubit \n",
    "    #\n",
    "    q2 =  QuantumRegister(1) \n",
    "    c2 = ClassicalRegister(1) \n",
    "    qc2 = QuantumCircuit(q2,c2)\n",
    "    \n",
    "    # rotate the qubit    \n",
    "    qc2.ry(2 * rotation_angle2,q2[0])\n",
    "        \n",
    "    # read the quantum state\n",
    "    job = execute(qc2,Aer.get_backend('statevector_simulator'),optimization_level=0)\n",
    "    current_quantum_state2=job.result().get_statevector(qc2).data \n",
    "    [x2,y2]=[current_quantum_state2[0].real,current_quantum_state2[1].real]\n",
    "\n",
    "        \n",
    "    #\n",
    "    # dot product\n",
    "    #\n",
    "    print(i,\"- the result of dot product is \",round(x1*x2+y1*y2,5))\n",
    "    print(\"random angle is\",random_angle)\n",
    "    print(\"x1 , y1 =\",round(x1,5),round(y1,5))\n",
    "    print(\"x2 , y2 =\",round(x2,5),round(y2,5))\n",
    "    print()"
   ]
  },
  {
   "cell_type": "markdown",
   "metadata": {},
   "source": [
    "<a id=\"task7\"></a>\n",
    "<h3> Task 7 </h3>\n",
    "\n",
    "We randomly pick an angle $ \\theta \\in [0,2\\pi) $.\n",
    "\n",
    "We have a single qubit initially set to state $ \\ket{0} $. \n",
    "\n",
    "The qubit is rotated by the angle either $ \\theta_1 =  \\theta $ or $ \\theta_2 =  \\theta-\\pi/2 $.\n",
    "\n",
    "You are allowed to do one more rotation $ \\theta' $ and then make a measurement.\n",
    "\n",
    "Can you determine the angle of the first rotation angle by looking/using the measurement result? Is it $ \\theta_1 $ or $ \\theta_2 $?\n",
    "\n",
    "Check your solution for different random angles."
   ]
  },
  {
   "cell_type": "markdown",
   "metadata": {},
   "source": [
    "<h3>Solution</h3>"
   ]
  },
  {
   "cell_type": "code",
   "execution_count": null,
   "metadata": {},
   "outputs": [],
   "source": [
    "from random import randrange\n",
    "from math import pi\n",
    "from qiskit import QuantumRegister, ClassicalRegister, QuantumCircuit, execute, Aer\n",
    "\n",
    "random_angle = randrange(3600)/10\n",
    "rotation_angle1 = random_angle/360*2*pi\n",
    "rotation_angle2 = rotation_angle1 - pi/2\n",
    "\n",
    "# we define a quantum circuit with one qubit and one bit\n",
    "q =  QuantumRegister(1) # quantum register with a single qubit\n",
    "c = ClassicalRegister(1) # classical register with a single bit\n",
    "qc = QuantumCircuit(q,c) # quantum circuit with quantum and classical registers\n",
    "\n",
    "if randrange(2)==0:\n",
    "    qc.ry(2 * rotation_angle1,q[0])\n",
    "    picked_angle = \"theta1\"\n",
    "else:\n",
    "    qc.ry(2 * rotation_angle2,q[0])\n",
    "    picked_angle = \"theta2\"\n",
    "\n",
    "#\n",
    "# your code is here\n",
    "#\n",
    "your_guess = \"\"\n",
    "\n",
    "qc.ry(-2 * rotation_angle1,q[0]) # the new state will be either |0> or -|1>\n",
    "\n",
    "qc.measure(q,c)\n",
    "\n",
    "job = execute(qc,Aer.get_backend('qasm_simulator'),shots=100)\n",
    "counts = job.result().get_counts(qc)\n",
    "print(counts)\n",
    "\n",
    "if '0' in counts:\n",
    "    your_guess = \"theta1\"\n",
    "else:\n",
    "    your_guess = \"theta2\"\n",
    "\n",
    "\n",
    "######################\n",
    "print(\"your guess is\",your_guess)\n",
    "print(\"picked_angle is\",picked_angle)"
   ]
  }
 ],
 "metadata": {
  "kernelspec": {
   "display_name": "Python 3 (ipykernel)",
   "language": "python",
   "name": "python3"
  },
  "language_info": {
   "codemirror_mode": {
    "name": "ipython",
    "version": 3
   },
   "file_extension": ".py",
   "mimetype": "text/x-python",
   "name": "python",
   "nbconvert_exporter": "python",
   "pygments_lexer": "ipython3",
   "version": "3.10.4"
  }
 },
 "nbformat": 4,
 "nbformat_minor": 2
}
