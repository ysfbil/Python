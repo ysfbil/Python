{
 "cells": [
  {
   "cell_type": "code",
   "execution_count": 1,
   "metadata": {},
   "outputs": [],
   "source": [
    "import numpy as np\n",
    "from gensim.models import Word2Vec\n",
    "from sklearn.manifold import TSNE #grafik çizmek için\n",
    "import matplotlib.pyplot as plt"
   ]
  },
  {
   "cell_type": "code",
   "execution_count": 2,
   "metadata": {},
   "outputs": [],
   "source": [
    "f = open('hurriyet.txt', 'r', encoding='utf8')\n",
    "text = f.read()\n",
    "t_list = text.split('\\n')\n",
    "\n",
    "corpus = []\n",
    "\n",
    "for cumle in t_list:\n",
    "    corpus.append(cumle.split())"
   ]
  },
  {
   "cell_type": "code",
   "execution_count": 3,
   "metadata": {},
   "outputs": [
    {
     "name": "stdout",
     "output_type": "stream",
     "text": [
      "[['iran', 'devlet', 'televizyonu', 'ülkedeki', 'eyaletin', 'sinde', 'yapılan', 'reformcuları', 'protesto', 'amaçlı', 'yürüyüşlere', 'milyonlarca', 'kişinin', 'katıldığını', 'bildirdi'], ['gösterilerde', 'fitnecilere', 'ölüm', 'münafıklara', 'ölüm', 'abd', 'ye', 'ölüm', 'ingiltere', 'ye', 'ölüm', 'sloganları', 'atıldı'], ['dini', 'lider', 'ali', 'hamaney', 've', 'cumhurbaşkanı', 'mahmud', 'ahmedinejad', 'ı', 'destekleyen', 'iranlılar', 'son', 'olaylarda', 'yeğeni', 'öldürülen', 'mir', 'hüseyin', 'musevi', 'başta', 'olmak', 'üzere', 'muhalefet', 'liderlerini', 'kınadılar'], ['musevi', 'ye', 'ölüm', 've', 'idam', 'idam', 'sloganları', 'duyuldu'], ['muhalefet', 'liderleri', 'kaçtı', 'mı', 'aşure', 'günü', 'yaşanan', 'çatışmalarda', 'devlet', 'kaynaklarına', 'göre', 'u', 'terörist', 'olmak', 'üzere', 'kişi', 'ölmüştü'], ['den', 'fazla', 'kişinin', 'yaralandığı', 'olaylar', 'sırasında', 'en', 'az', 'kişi', 'tutuklanmıştı'], ['öte', 'yandan', 'iran', 'haber', 'ajansı', 'irna', 'muhalif', 'liderler', 'mir', 'hüseyin', 'musevi', 've', 'mehdi', 'kerrubi', 'nin', 'başkentten', 'kaçarak', 'ülkenin', 'kuzeyine', 'geçtiğini', 'ileri', 'sürdü', 'ancak', 'muhalefet', 'iddiayı', 'yalanladı'], ['hamaney', 'in', 'bir', 'dönem', 'korumalığını', 'yapan', 've', 'şu', 'anda', 'fransa', 'da', 'saklandığı', 'söylenen', 'bir', 'kişinin', 'muhalefete', 'verdiği', 'bilgilere', 'göre', 'münzevi', 'yaşamı', 'na', 'rağmen', 'dini', 'liderin', 'havyara', 'karşı', 'korkunç', 'bir', 'iştahı', 'var'], ['baston', 've', 'at', 'meraklısı', 'hamaney', 'aynı', 'zamanda', 'değerli', 'mücevherlerle', 'bezenmiş', 'bastonların', 've', 'cins', 'atların', 'koleksiyonunu', 'yapıyor'], ['hamaney', 'in', 'antika', 'bastonlarının', 'sayısı']]\n"
     ]
    }
   ],
   "source": [
    "print(corpus[:10])"
   ]
  },
  {
   "cell_type": "code",
   "execution_count": 8,
   "metadata": {},
   "outputs": [],
   "source": [
    "?Word2Vec #parametreleri görmek için"
   ]
  },
  {
   "cell_type": "code",
   "execution_count": 9,
   "metadata": {
    "scrolled": true
   },
   "outputs": [],
   "source": [
    "model = Word2Vec(corpus, vector_size=100, window=5, min_count=5, sg=1) \n",
    "#100 boyutlu vektör, window=5 cümlenin 5 sağı 5 solundaki kelimelerle ilişkisi\n",
    "# en za 5 kere geçen kelime, sg=1 skip gram algoritması ile, varsayılan bow'dur. bow daha hızlı çalışır."
   ]
  },
  {
   "cell_type": "code",
   "execution_count": 10,
   "metadata": {},
   "outputs": [
    {
     "data": {
      "text/plain": [
       "array([-0.0382213 , -0.14607371, -0.09402559,  0.48508477,  0.81590664,\n",
       "        0.08239733, -0.26012245,  0.6297193 , -0.24446988, -0.43203112,\n",
       "       -0.05893673, -0.45731875, -0.08463804,  0.25915113, -0.30221948,\n",
       "        0.2077159 ,  0.5600885 , -0.3607381 , -0.12616089, -0.6105835 ,\n",
       "       -0.08995579,  0.34658495,  0.43670288, -0.8420856 , -0.41498262,\n",
       "        0.40586215, -0.15844473, -0.14408083, -0.26961204,  0.48917645,\n",
       "        0.3666439 , -0.00389777, -0.23599105,  0.05935578, -0.1242036 ,\n",
       "        0.17878987, -0.43874568, -0.38486248,  0.14650378, -0.5782508 ,\n",
       "        0.79061675,  0.4710507 ,  0.32794517,  0.3871747 ,  0.26753795,\n",
       "        0.28651783, -0.24837138, -0.15814294,  0.05238954,  0.01046589,\n",
       "       -0.01191466, -0.3347627 , -0.17079382, -0.012565  , -0.2785195 ,\n",
       "        0.18808927,  0.13507907,  0.08479971, -0.47420698, -0.13576779,\n",
       "        0.07968948, -0.14432307,  0.37568614,  0.34547696, -0.407979  ,\n",
       "       -0.01083528,  0.06651728,  0.10171057, -0.44930157, -0.26466236,\n",
       "       -0.20498562,  0.02014802,  0.37748492,  0.16188942,  0.37959775,\n",
       "       -0.3498587 ,  0.41038358,  0.00423932,  0.0706663 ,  0.18124539,\n",
       "        0.14788403, -0.7742979 , -0.0723347 ,  0.81460065,  0.3068407 ,\n",
       "       -0.06781279,  0.48192596,  0.41088095,  0.48722553,  0.21827726,\n",
       "        0.7171961 ,  0.11861504,  0.17703111, -0.08071801,  0.3070726 ,\n",
       "        0.09561259,  0.2895443 ,  0.17673877,  0.5452637 , -0.1343468 ],\n",
       "      dtype=float32)"
      ]
     },
     "execution_count": 10,
     "metadata": {},
     "output_type": "execute_result"
    }
   ],
   "source": [
    "model.wv['ankara']"
   ]
  },
  {
   "cell_type": "code",
   "execution_count": 11,
   "metadata": {},
   "outputs": [
    {
     "data": {
      "text/plain": [
       "[('muş', 0.9091859459877014),\n",
       " ('tunceli', 0.8896605968475342),\n",
       " ('balıkesir', 0.873999834060669),\n",
       " ('bingöl', 0.8733527660369873),\n",
       " ('şırnak', 0.8682032227516174),\n",
       " ('elazığ', 0.8622507452964783),\n",
       " ('figen', 0.8577015399932861),\n",
       " ('tamer', 0.8559747934341431),\n",
       " ('mardin', 0.854815661907196),\n",
       " ('bitlis', 0.854407548904419)]"
      ]
     },
     "execution_count": 11,
     "metadata": {},
     "output_type": "execute_result"
    }
   ],
   "source": [
    "model.wv.most_similar('siirt')"
   ]
  },
  {
   "cell_type": "code",
   "execution_count": 12,
   "metadata": {},
   "outputs": [],
   "source": [
    "model.save('word2vec.model') #modeli kaydediyoruz"
   ]
  },
  {
   "cell_type": "code",
   "execution_count": 13,
   "metadata": {},
   "outputs": [],
   "source": [
    "model = Word2Vec.load('word2vec.model') #modeli geri yüklüyoruz"
   ]
  },
  {
   "cell_type": "code",
   "execution_count": 14,
   "metadata": {},
   "outputs": [],
   "source": [
    "def closestwords_tsneplot(model, word):\n",
    "    word_vectors = np.empty((0,100)) #boş bir np dizi oluşturduk. 100 boyutlu\n",
    "    word_labels = [word] #word elemanını içeren bir  liste oluşturduk\n",
    "    \n",
    "    close_words = model.wv.most_similar(word) #word'e yakın kelimlerin listesini çıkardık\n",
    "    \n",
    "    word_vectors = np.append(word_vectors, np.array([model.wv[word]]), axis=0) #word kelimesinin vektor formunu np dizisine ekledik. axis 0 demezsek düzleştirme yapar\n",
    "    \n",
    "    for w, _ in close_words:\n",
    "        word_labels.append(w) #her yakın kelimeyi word label'e ekledik.\n",
    "        word_vectors = np.append(word_vectors, np.array([model.wv[w]]), axis=0) #her yakın kelimenin vektor formunu np dizisine ekledik\n",
    "        \n",
    "    tsne = TSNE(random_state=0) #grafik çizmek için TSNE ile dönüşüm nesnesi oluşturduk. random_state verilmezse her defasında farklı sonuç çıkar.\n",
    "    Y = tsne.fit_transform(word_vectors)\n",
    "    \n",
    "    x_coords = Y[:, 0] #dönüşümün x kordinat değerleri\n",
    "    y_coords = Y[:, 1] #dönüşümün y kordinat değerleri\n",
    "    \n",
    "    plt.scatter(x_coords, y_coords) #grafiği çizdik\n",
    "    \n",
    "    for label, x, y in zip(word_labels, x_coords, y_coords):\n",
    "        plt.annotate(label, xy=(x, y), xytext=(5, -2), textcoords='offset points') #grafik değerlerini yazdırdık\n",
    "        \n",
    "    plt.show()"
   ]
  },
  {
   "cell_type": "code",
   "execution_count": 16,
   "metadata": {},
   "outputs": [
    {
     "name": "stderr",
     "output_type": "stream",
     "text": [
      "C:\\Users\\ysfbil\\AppData\\Local\\Programs\\Python\\Python310\\lib\\site-packages\\sklearn\\manifold\\_t_sne.py:795: FutureWarning: The default initialization in TSNE will change from 'random' to 'pca' in 1.2.\n",
      "  warnings.warn(\n",
      "C:\\Users\\ysfbil\\AppData\\Local\\Programs\\Python\\Python310\\lib\\site-packages\\sklearn\\manifold\\_t_sne.py:805: FutureWarning: The default learning rate in TSNE will change from 200.0 to 'auto' in 1.2.\n",
      "  warnings.warn(\n"
     ]
    },
    {
     "data": {
      "image/png": "[encoded data removed]",
      "text/plain": [
       "<Figure size 432x288 with 1 Axes>"
      ]
     },
     "metadata": {
      "needs_background": "light"
     },
     "output_type": "display_data"
    }
   ],
   "source": [
    "closestwords_tsneplot(model, 'siirt')"
   ]
  },
  {
   "cell_type": "code",
   "execution_count": null,
   "metadata": {},
   "outputs": [],
   "source": []
  }
 ],
 "metadata": {
  "kernelspec": {
   "display_name": "Python 3 (ipykernel)",
   "language": "python",
   "name": "python3"
  },
  "language_info": {
   "codemirror_mode": {
    "name": "ipython",
    "version": 3
   },
   "file_extension": ".py",
   "mimetype": "text/x-python",
   "name": "python",
   "nbconvert_exporter": "python",
   "pygments_lexer": "ipython3",
   "version": "3.10.4"
  }
 },
 "nbformat": 4,
 "nbformat_minor": 2
}
