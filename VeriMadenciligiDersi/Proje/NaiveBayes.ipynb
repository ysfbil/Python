{
 "cells": [
  {
   "cell_type": "code",
   "execution_count": 1,
   "id": "8e2c3831",
   "metadata": {},
   "outputs": [],
   "source": [
    "import numpy as np\n",
    "import pandas as pd\n",
    "from sklearn.model_selection import train_test_split\n",
    "from sklearn.preprocessing import StandardScaler\n",
    "from sklearn.preprocessing import MinMaxScaler\n",
    "from sklearn.metrics import confusion_matrix\n",
    "from sklearn.metrics import accuracy_score\n",
    "from sklearn.naive_bayes import GaussianNB"
   ]
  },
  {
   "cell_type": "code",
   "execution_count": 2,
   "id": "dd68b377",
   "metadata": {},
   "outputs": [],
   "source": [
    "datasetRaw=pd.read_csv(\"flag.csv\")"
   ]
  },
  {
   "cell_type": "code",
   "execution_count": 3,
   "id": "a0275a24",
   "metadata": {},
   "outputs": [],
   "source": [
    "datasetRaw.drop(['name',\"area\",\"population\"],axis=1,inplace=True)"
   ]
  },
  {
   "cell_type": "code",
   "execution_count": 4,
   "id": "77db7b63",
   "metadata": {},
   "outputs": [],
   "source": [
    "ycolumns=[\"landmass\",\"zone\",\"language\",\"religion\"]"
   ]
  },
  {
   "cell_type": "code",
   "execution_count": 5,
   "id": "29ba963b",
   "metadata": {},
   "outputs": [],
   "source": [
    "x=datasetRaw.drop(ycolumns,axis=1)"
   ]
  },
  {
   "cell_type": "code",
   "execution_count": 6,
   "id": "b2340717",
   "metadata": {},
   "outputs": [],
   "source": [
    "toplefts=x[\"topleft\"].unique()\n",
    "topleftsNum=[i+1 for i in range(len(toplefts))]\n",
    "x[\"topleft\"].replace(toplefts,topleftsNum,inplace=True)\n",
    "\n",
    "botrights=x[\"botright\"].unique()\n",
    "botrightsNum=[i+1 for i in range(len(botrights))]\n",
    "x[\"botright\"].replace(botrights,botrightsNum,inplace=True)\n",
    "\n",
    "mainhues=x[\"mainhue\"].unique()\n",
    "mainhuesNum=[i+1 for i in range(len(mainhues))]\n",
    "x[\"mainhue\"].replace(mainhues,mainhuesNum,inplace=True)\n",
    "\n",
    "\n"
   ]
  },
  {
   "cell_type": "code",
   "execution_count": 7,
   "id": "8403d81c",
   "metadata": {},
   "outputs": [],
   "source": [
    "sc_X=MinMaxScaler()"
   ]
  },
  {
   "cell_type": "code",
   "execution_count": 8,
   "id": "b3aed702",
   "metadata": {},
   "outputs": [
    {
     "name": "stdout",
     "output_type": "stream",
     "text": [
      "landmass\n",
      "Başarım: 0.28205128205128205\n",
      "[[1 0 4 0 3 0]\n",
      " [0 0 3 0 1 0]\n",
      " [0 1 4 0 1 0]\n",
      " [0 0 3 0 1 2]\n",
      " [0 2 2 0 2 0]\n",
      " [1 1 1 0 2 4]]\n",
      "zone\n",
      "Başarım: 0.2564102564102564\n",
      "[[9 0 5 0]\n",
      " [5 0 3 1]\n",
      " [3 0 1 0]\n",
      " [9 0 3 0]]\n",
      "language\n",
      "Başarım: 0.23076923076923078\n",
      "[[5 2 0 0 0 1 0 1 1 1]\n",
      " [1 0 2 2 0 0 0 0 0 0]\n",
      " [0 0 3 0 0 0 0 1 0 1]\n",
      " [0 0 0 0 0 0 0 0 0 0]\n",
      " [0 0 1 0 0 0 0 0 1 0]\n",
      " [0 1 1 1 0 0 0 0 1 0]\n",
      " [2 0 0 0 0 0 0 0 0 0]\n",
      " [0 0 0 0 0 0 0 1 0 0]\n",
      " [0 0 0 0 0 0 0 0 0 0]\n",
      " [1 1 1 2 0 0 0 3 1 0]]\n",
      "religion\n",
      "Başarım: 0.1282051282051282\n",
      "[[1 0 0 3 2 0 1 4]\n",
      " [3 4 0 1 1 0 2 1]\n",
      " [0 0 0 1 0 0 1 2]\n",
      " [0 1 0 0 1 0 0 1]\n",
      " [0 0 0 0 0 0 0 0]\n",
      " [0 1 0 0 2 0 2 1]\n",
      " [0 0 0 0 1 0 0 2]\n",
      " [0 0 0 0 0 0 0 0]]\n"
     ]
    }
   ],
   "source": [
    "for s in range(4):\n",
    "    y=datasetRaw.iloc[:,s]\n",
    "    print(ycolumns[s])\n",
    "    X_train,X_test,y_train,y_test=train_test_split(x,y,test_size=0.20, random_state=56)\n",
    "    X_train_S=sc_X.fit_transform(X_train)\n",
    "    X_test_S=sc_X.fit_transform(X_test)\n",
    "  \n",
    "    classifier = GaussianNB()\n",
    "    classifier.fit(X_train_S, y_train)\n",
    "    \n",
    "    y_pred = classifier.predict(X_test_S)\n",
    "    \n",
    "    a=accuracy_score(y_test, y_pred)\n",
    "    print(\"Başarım:\",a)\n",
    "    \n",
    "    cm = confusion_matrix(y_test, y_pred)\n",
    "    print(cm)"
   ]
  },
  {
   "cell_type": "code",
   "execution_count": null,
   "id": "b9fc79f9",
   "metadata": {},
   "outputs": [],
   "source": []
  },
  {
   "cell_type": "markdown",
   "id": "fe34613a",
   "metadata": {},
   "source": [
    "# Normalizasyonsuz"
   ]
  },
  {
   "cell_type": "code",
   "execution_count": 9,
   "id": "c230cb91",
   "metadata": {},
   "outputs": [
    {
     "name": "stdout",
     "output_type": "stream",
     "text": [
      "landmass\n",
      "Başarım: 0.28205128205128205\n",
      "[[1 0 3 0 2 2]\n",
      " [0 0 4 0 0 0]\n",
      " [1 0 4 0 0 1]\n",
      " [0 0 5 0 0 1]\n",
      " [0 0 3 0 1 2]\n",
      " [0 0 2 0 2 5]]\n",
      "zone\n",
      "Başarım: 0.3076923076923077\n",
      "[[11  0  3  0]\n",
      " [ 7  0  2  0]\n",
      " [ 3  0  1  0]\n",
      " [10  0  2  0]]\n",
      "language\n",
      "Başarım: 0.20512820512820512\n",
      "[[4 1 1 0 0 2 0 2 1 0]\n",
      " [0 0 2 2 0 0 0 0 1 0]\n",
      " [0 0 3 0 0 1 0 1 0 0]\n",
      " [0 0 0 0 0 0 0 0 0 0]\n",
      " [0 0 1 1 0 0 0 0 0 0]\n",
      " [0 1 1 1 0 0 0 0 1 0]\n",
      " [1 0 1 0 0 0 0 0 0 0]\n",
      " [0 0 0 0 0 0 0 1 0 0]\n",
      " [0 0 0 0 0 0 0 0 0 0]\n",
      " [0 1 2 2 1 0 0 2 1 0]]\n",
      "religion\n",
      "Başarım: 0.07692307692307693\n",
      "[[0 0 0 2 4 0 1 4]\n",
      " [2 3 0 1 2 0 3 1]\n",
      " [0 0 0 1 0 0 1 2]\n",
      " [0 1 0 0 1 0 0 1]\n",
      " [0 0 0 0 0 0 0 0]\n",
      " [1 0 0 0 2 0 2 1]\n",
      " [0 0 0 0 1 0 0 2]\n",
      " [0 0 0 0 0 0 0 0]]\n"
     ]
    }
   ],
   "source": [
    "for s in range(4):\n",
    "    y=datasetRaw.iloc[:,s]\n",
    "    print(ycolumns[s])\n",
    "    X_train,X_test,y_train,y_test=train_test_split(x,y,test_size=0.20, random_state=56)\n",
    "    \n",
    "  \n",
    "    classifier = GaussianNB()\n",
    "    classifier.fit(X_train, y_train)\n",
    "    \n",
    "    y_pred = classifier.predict(X_test)\n",
    "    \n",
    "    a=accuracy_score(y_test, y_pred)\n",
    "    print(\"Başarım:\",a)\n",
    "    \n",
    "    cm = confusion_matrix(y_test, y_pred)\n",
    "    print(cm)"
   ]
  },
  {
   "cell_type": "code",
   "execution_count": null,
   "id": "0e366bcd",
   "metadata": {},
   "outputs": [],
   "source": []
  },
  {
   "cell_type": "code",
   "execution_count": null,
   "id": "a9dec481",
   "metadata": {},
   "outputs": [],
   "source": []
  }
 ],
 "metadata": {
  "kernelspec": {
   "display_name": "Python 3 (ipykernel)",
   "language": "python",
   "name": "python3"
  },
  "language_info": {
   "codemirror_mode": {
    "name": "ipython",
    "version": 3
   },
   "file_extension": ".py",
   "mimetype": "text/x-python",
   "name": "python",
   "nbconvert_exporter": "python",
   "pygments_lexer": "ipython3",
   "version": "3.10.4"
  }
 },
 "nbformat": 4,
 "nbformat_minor": 5
}
