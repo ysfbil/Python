{
 "cells": [
  {
   "cell_type": "code",
   "execution_count": 1,
   "id": "8e2c3831",
   "metadata": {},
   "outputs": [],
   "source": [
    "import numpy as np\n",
    "import pandas as pd\n",
    "from sklearn.model_selection import train_test_split\n",
    "from sklearn.preprocessing import StandardScaler\n",
    "from sklearn.preprocessing import MinMaxScaler\n",
    "from sklearn.metrics import confusion_matrix\n",
    "from sklearn.metrics import accuracy_score\n",
    "from sklearn.naive_bayes import GaussianNB"
   ]
  },
  {
   "cell_type": "code",
   "execution_count": 2,
   "id": "dd68b377",
   "metadata": {},
   "outputs": [],
   "source": [
    "datasetRaw=pd.read_csv(\"flag.csv\")"
   ]
  },
  {
   "cell_type": "code",
   "execution_count": 3,
   "id": "a0275a24",
   "metadata": {},
   "outputs": [],
   "source": [
    "datasetRaw.drop(['name',\"area\",\"population\"],axis=1,inplace=True)"
   ]
  },
  {
   "cell_type": "code",
   "execution_count": 4,
   "id": "77db7b63",
   "metadata": {},
   "outputs": [],
   "source": [
    "ycolumns=[\"landmass\",\"zone\",\"language\",\"religion\"]"
   ]
  },
  {
   "cell_type": "code",
   "execution_count": 5,
   "id": "29ba963b",
   "metadata": {},
   "outputs": [],
   "source": [
    "x=datasetRaw.drop(ycolumns,axis=1)"
   ]
  },
  {
   "cell_type": "code",
   "execution_count": 6,
   "id": "b2340717",
   "metadata": {},
   "outputs": [],
   "source": [
    "toplefts=x[\"topleft\"].unique()\n",
    "topleftsNum=[i+1 for i in range(len(toplefts))]\n",
    "x[\"topleft\"].replace(toplefts,topleftsNum,inplace=True)\n",
    "\n",
    "botrights=x[\"botright\"].unique()\n",
    "botrightsNum=[i+1 for i in range(len(botrights))]\n",
    "x[\"botright\"].replace(botrights,botrightsNum,inplace=True)\n",
    "\n",
    "mainhues=x[\"mainhue\"].unique()\n",
    "mainhuesNum=[i+1 for i in range(len(mainhues))]\n",
    "x[\"mainhue\"].replace(mainhues,mainhuesNum,inplace=True)\n",
    "\n",
    "\n"
   ]
  },
  {
   "cell_type": "code",
   "execution_count": 7,
   "id": "8403d81c",
   "metadata": {},
   "outputs": [],
   "source": [
    "sc_X=MinMaxScaler()"
   ]
  },
  {
   "cell_type": "code",
   "execution_count": 8,
   "id": "b3aed702",
   "metadata": {},
   "outputs": [
    {
     "name": "stdout",
     "output_type": "stream",
     "text": [
      "landmass\n"
     ]
    },
    {
     "ename": "NameError",
     "evalue": "name 'GaussianNB' is not defined",
     "output_type": "error",
     "traceback": [
      "\u001b[1;31m---------------------------------------------------------------------------\u001b[0m",
      "\u001b[1;31mNameError\u001b[0m                                 Traceback (most recent call last)",
      "Input \u001b[1;32mIn [8]\u001b[0m, in \u001b[0;36m<cell line: 1>\u001b[1;34m()\u001b[0m\n\u001b[0;32m      5\u001b[0m X_train_S\u001b[38;5;241m=\u001b[39msc_X\u001b[38;5;241m.\u001b[39mfit_transform(X_train)\n\u001b[0;32m      6\u001b[0m X_test_S\u001b[38;5;241m=\u001b[39msc_X\u001b[38;5;241m.\u001b[39mfit_transform(X_test)\n\u001b[1;32m----> 8\u001b[0m classifier \u001b[38;5;241m=\u001b[39m \u001b[43mGaussianNB\u001b[49m()\n\u001b[0;32m      9\u001b[0m classifier\u001b[38;5;241m.\u001b[39mfit(X_train_S, y_train)\n\u001b[0;32m     11\u001b[0m y_pred \u001b[38;5;241m=\u001b[39m classifier\u001b[38;5;241m.\u001b[39mpredict(X_test_S)\n",
      "\u001b[1;31mNameError\u001b[0m: name 'GaussianNB' is not defined"
     ]
    }
   ],
   "source": [
    "for s in range(4):\n",
    "    y=datasetRaw.iloc[:,s]\n",
    "    print(ycolumns[s])\n",
    "    X_train,X_test,y_train,y_test=train_test_split(x,y,test_size=0.20, random_state=56)\n",
    "    X_train_S=sc_X.fit_transform(X_train)\n",
    "    X_test_S=sc_X.fit_transform(X_test)\n",
    "  \n",
    "    classifier = GaussianNB()\n",
    "    classifier.fit(X_train_S, y_train)\n",
    "    \n",
    "    y_pred = classifier.predict(X_test_S)\n",
    "    \n",
    "    a=accuracy_score(y_test, y_pred)\n",
    "    print(\"Başarım:\",a)\n",
    "    \n",
    "    cm = confusion_matrix(y_test, y_pred)\n",
    "    print(cm)"
   ]
  },
  {
   "cell_type": "code",
   "execution_count": null,
   "id": "b9fc79f9",
   "metadata": {},
   "outputs": [],
   "source": []
  },
  {
   "cell_type": "markdown",
   "id": "fe34613a",
   "metadata": {},
   "source": [
    "# Normalizasyonsuz"
   ]
  },
  {
   "cell_type": "code",
   "execution_count": null,
   "id": "c230cb91",
   "metadata": {},
   "outputs": [],
   "source": [
    "for s in range(4):\n",
    "    y=datasetRaw.iloc[:,s]\n",
    "    print(ycolumns[s])\n",
    "    X_train,X_test,y_train,y_test=train_test_split(x,y,test_size=0.20, random_state=56)\n",
    "    \n",
    "  \n",
    "    classifier = GaussianNB()\n",
    "    classifier.fit(X_train, y_train)\n",
    "    \n",
    "    y_pred = classifier.predict(X_test)\n",
    "    \n",
    "    a=accuracy_score(y_test, y_pred)\n",
    "    print(\"Başarım:\",a)\n",
    "    \n",
    "    cm = confusion_matrix(y_test, y_pred)\n",
    "    print(cm)"
   ]
  },
  {
   "cell_type": "code",
   "execution_count": null,
   "id": "0e366bcd",
   "metadata": {},
   "outputs": [],
   "source": []
  },
  {
   "cell_type": "code",
   "execution_count": null,
   "id": "a9dec481",
   "metadata": {},
   "outputs": [],
   "source": []
  }
 ],
 "metadata": {
  "kernelspec": {
   "display_name": "Python 3 (ipykernel)",
   "language": "python",
   "name": "python3"
  },
  "language_info": {
   "codemirror_mode": {
    "name": "ipython",
    "version": 3
   },
   "file_extension": ".py",
   "mimetype": "text/x-python",
   "name": "python",
   "nbconvert_exporter": "python",
   "pygments_lexer": "ipython3",
   "version": "3.10.4"
  }
 },
 "nbformat": 4,
 "nbformat_minor": 5
}
