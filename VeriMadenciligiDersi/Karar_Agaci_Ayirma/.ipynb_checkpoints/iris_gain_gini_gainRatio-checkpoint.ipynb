{
 "cells": [
  {
   "cell_type": "markdown",
   "metadata": {
    "id": "vg3OdmEMN8i4"
   },
   "source": [
    "#Kütüphaneleri ve veri setini yükleme"
   ]
  },
  {
   "cell_type": "code",
   "execution_count": 1,
   "metadata": {
    "id": "d-o1InG-5pne"
   },
   "outputs": [],
   "source": [
    "from sklearn import datasets\n",
    "import pandas as pd\n",
    "import math\n",
    "import numpy as np\n"
   ]
  },
  {
   "cell_type": "code",
   "execution_count": 8,
   "metadata": {
    "id": "bjQA8kJQ51vz"
   },
   "outputs": [],
   "source": [
    "#data=pd.read_csv(\"data2.csv\")\n",
    "iris=datasets.load_iris()"
   ]
  },
  {
   "cell_type": "markdown",
   "metadata": {
    "id": "DpBJBcyGODgR"
   },
   "source": [
    "Veri Önişleme"
   ]
  },
  {
   "cell_type": "code",
   "execution_count": 10,
   "metadata": {
    "id": "vX2Dn4nd7IbR"
   },
   "outputs": [],
   "source": [
    "x=iris.data\n",
    "y=iris.target"
   ]
  },
  {
   "cell_type": "code",
   "execution_count": 35,
   "metadata": {
    "id": "n3xCaKz678ax"
   },
   "outputs": [],
   "source": [
    "xp=pd.DataFrame(x,columns=[\"sepal_length\",\"sepal_width\",\"petal_length\",\"pedal_width\"])"
   ]
  },
  {
   "cell_type": "code",
   "execution_count": 36,
   "metadata": {
    "id": "n0GXKHol8rto"
   },
   "outputs": [],
   "source": [
    "yp=pd.DataFrame(y,columns=[\"Class\"])"
   ]
  },
  {
   "cell_type": "code",
   "execution_count": 108,
   "metadata": {
    "colab": {
     "base_uri": "https://localhost:8080/",
     "height": 206
    },
    "id": "759sk-kDKouw",
    "outputId": "7b6a2f7c-ecea-4526-aa8e-1d787ad717ad"
   },
   "outputs": [
    {
     "data": {
      "text/html": [
       "\n",
       "  <div id=\"df-bdb9f21a-81a9-4b29-a3da-8de36b8ea7c5\">\n",
       "    <div class=\"colab-df-container\">\n",
       "      <div>\n",
       "<style scoped>\n",
       "    .dataframe tbody tr th:only-of-type {\n",
       "        vertical-align: middle;\n",
       "    }\n",
       "\n",
       "    .dataframe tbody tr th {\n",
       "        vertical-align: top;\n",
       "    }\n",
       "\n",
       "    .dataframe thead th {\n",
       "        text-align: right;\n",
       "    }\n",
       "</style>\n",
       "<table border=\"1\" class=\"dataframe\">\n",
       "  <thead>\n",
       "    <tr style=\"text-align: right;\">\n",
       "      <th></th>\n",
       "      <th>Class</th>\n",
       "    </tr>\n",
       "  </thead>\n",
       "  <tbody>\n",
       "    <tr>\n",
       "      <th>0</th>\n",
       "      <td>0</td>\n",
       "    </tr>\n",
       "    <tr>\n",
       "      <th>1</th>\n",
       "      <td>0</td>\n",
       "    </tr>\n",
       "    <tr>\n",
       "      <th>2</th>\n",
       "      <td>0</td>\n",
       "    </tr>\n",
       "    <tr>\n",
       "      <th>3</th>\n",
       "      <td>0</td>\n",
       "    </tr>\n",
       "    <tr>\n",
       "      <th>4</th>\n",
       "      <td>0</td>\n",
       "    </tr>\n",
       "  </tbody>\n",
       "</table>\n",
       "</div>\n",
       "      <button class=\"colab-df-convert\" onclick=\"convertToInteractive('df-bdb9f21a-81a9-4b29-a3da-8de36b8ea7c5')\"\n",
       "              title=\"Convert this dataframe to an interactive table.\"\n",
       "              style=\"display:none;\">\n",
       "        \n",
       "  <svg xmlns=\"http://www.w3.org/2000/svg\" height=\"24px\"viewBox=\"0 0 24 24\"\n",
       "       width=\"24px\">\n",
       "    <path d=\"M0 0h24v24H0V0z\" fill=\"none\"/>\n",
       "    <path d=\"M18.56 5.44l.94 2.06.94-2.06 2.06-.94-2.06-.94-.94-2.06-.94 2.06-2.06.94zm-11 1L8.5 8.5l.94-2.06 2.06-.94-2.06-.94L8.5 2.5l-.94 2.06-2.06.94zm10 10l.94 2.06.94-2.06 2.06-.94-2.06-.94-.94-2.06-.94 2.06-2.06.94z\"/><path d=\"M17.41 7.96l-1.37-1.37c-.4-.4-.92-.59-1.43-.59-.52 0-1.04.2-1.43.59L10.3 9.45l-7.72 7.72c-.78.78-.78 2.05 0 2.83L4 21.41c.39.39.9.59 1.41.59.51 0 1.02-.2 1.41-.59l7.78-7.78 2.81-2.81c.8-.78.8-2.07 0-2.86zM5.41 20L4 18.59l7.72-7.72 1.47 1.35L5.41 20z\"/>\n",
       "  </svg>\n",
       "      </button>\n",
       "      \n",
       "  <style>\n",
       "    .colab-df-container {\n",
       "      display:flex;\n",
       "      flex-wrap:wrap;\n",
       "      gap: 12px;\n",
       "    }\n",
       "\n",
       "    .colab-df-convert {\n",
       "      background-color: #E8F0FE;\n",
       "      border: none;\n",
       "      border-radius: 50%;\n",
       "      cursor: pointer;\n",
       "      display: none;\n",
       "      fill: #1967D2;\n",
       "      height: 32px;\n",
       "      padding: 0 0 0 0;\n",
       "      width: 32px;\n",
       "    }\n",
       "\n",
       "    .colab-df-convert:hover {\n",
       "      background-color: #E2EBFA;\n",
       "      box-shadow: 0px 1px 2px rgba(60, 64, 67, 0.3), 0px 1px 3px 1px rgba(60, 64, 67, 0.15);\n",
       "      fill: #174EA6;\n",
       "    }\n",
       "\n",
       "    [theme=dark] .colab-df-convert {\n",
       "      background-color: #3B4455;\n",
       "      fill: #D2E3FC;\n",
       "    }\n",
       "\n",
       "    [theme=dark] .colab-df-convert:hover {\n",
       "      background-color: #434B5C;\n",
       "      box-shadow: 0px 1px 3px 1px rgba(0, 0, 0, 0.15);\n",
       "      filter: drop-shadow(0px 1px 2px rgba(0, 0, 0, 0.3));\n",
       "      fill: #FFFFFF;\n",
       "    }\n",
       "  </style>\n",
       "\n",
       "      <script>\n",
       "        const buttonEl =\n",
       "          document.querySelector('#df-bdb9f21a-81a9-4b29-a3da-8de36b8ea7c5 button.colab-df-convert');\n",
       "        buttonEl.style.display =\n",
       "          google.colab.kernel.accessAllowed ? 'block' : 'none';\n",
       "\n",
       "        async function convertToInteractive(key) {\n",
       "          const element = document.querySelector('#df-bdb9f21a-81a9-4b29-a3da-8de36b8ea7c5');\n",
       "          const dataTable =\n",
       "            await google.colab.kernel.invokeFunction('convertToInteractive',\n",
       "                                                     [key], {});\n",
       "          if (!dataTable) return;\n",
       "\n",
       "          const docLinkHtml = 'Like what you see? Visit the ' +\n",
       "            '<a target=\"_blank\" href=https://colab.research.google.com/notebooks/data_table.ipynb>data table notebook</a>'\n",
       "            + ' to learn more about interactive tables.';\n",
       "          element.innerHTML = '';\n",
       "          dataTable['output_type'] = 'display_data';\n",
       "          await google.colab.output.renderOutput(dataTable, element);\n",
       "          const docLink = document.createElement('div');\n",
       "          docLink.innerHTML = docLinkHtml;\n",
       "          element.appendChild(docLink);\n",
       "        }\n",
       "      </script>\n",
       "    </div>\n",
       "  </div>\n",
       "  "
      ],
      "text/plain": [
       "   Class\n",
       "0      0\n",
       "1      0\n",
       "2      0\n",
       "3      0\n",
       "4      0"
      ]
     },
     "execution_count": 108,
     "metadata": {},
     "output_type": "execute_result"
    }
   ],
   "source": [
    "yp.head()"
   ]
  },
  {
   "cell_type": "code",
   "execution_count": 40,
   "metadata": {
    "colab": {
     "base_uri": "https://localhost:8080/",
     "height": 206
    },
    "id": "-8b74gyR9_xN",
    "outputId": "22615088-1fba-4062-d2ea-b0f10ff33936"
   },
   "outputs": [
    {
     "data": {
      "text/html": [
       "\n",
       "  <div id=\"df-a1f1ba35-44ca-4876-a71e-2fb7d1746f05\">\n",
       "    <div class=\"colab-df-container\">\n",
       "      <div>\n",
       "<style scoped>\n",
       "    .dataframe tbody tr th:only-of-type {\n",
       "        vertical-align: middle;\n",
       "    }\n",
       "\n",
       "    .dataframe tbody tr th {\n",
       "        vertical-align: top;\n",
       "    }\n",
       "\n",
       "    .dataframe thead th {\n",
       "        text-align: right;\n",
       "    }\n",
       "</style>\n",
       "<table border=\"1\" class=\"dataframe\">\n",
       "  <thead>\n",
       "    <tr style=\"text-align: right;\">\n",
       "      <th></th>\n",
       "      <th>sepal_length</th>\n",
       "      <th>sepal_width</th>\n",
       "      <th>petal_length</th>\n",
       "      <th>pedal_width</th>\n",
       "    </tr>\n",
       "  </thead>\n",
       "  <tbody>\n",
       "    <tr>\n",
       "      <th>0</th>\n",
       "      <td>5.1</td>\n",
       "      <td>3.5</td>\n",
       "      <td>1.4</td>\n",
       "      <td>0.2</td>\n",
       "    </tr>\n",
       "    <tr>\n",
       "      <th>1</th>\n",
       "      <td>4.9</td>\n",
       "      <td>3.0</td>\n",
       "      <td>1.4</td>\n",
       "      <td>0.2</td>\n",
       "    </tr>\n",
       "    <tr>\n",
       "      <th>2</th>\n",
       "      <td>4.7</td>\n",
       "      <td>3.2</td>\n",
       "      <td>1.3</td>\n",
       "      <td>0.2</td>\n",
       "    </tr>\n",
       "    <tr>\n",
       "      <th>3</th>\n",
       "      <td>4.6</td>\n",
       "      <td>3.1</td>\n",
       "      <td>1.5</td>\n",
       "      <td>0.2</td>\n",
       "    </tr>\n",
       "    <tr>\n",
       "      <th>4</th>\n",
       "      <td>5.0</td>\n",
       "      <td>3.6</td>\n",
       "      <td>1.4</td>\n",
       "      <td>0.2</td>\n",
       "    </tr>\n",
       "  </tbody>\n",
       "</table>\n",
       "</div>\n",
       "      <button class=\"colab-df-convert\" onclick=\"convertToInteractive('df-a1f1ba35-44ca-4876-a71e-2fb7d1746f05')\"\n",
       "              title=\"Convert this dataframe to an interactive table.\"\n",
       "              style=\"display:none;\">\n",
       "        \n",
       "  <svg xmlns=\"http://www.w3.org/2000/svg\" height=\"24px\"viewBox=\"0 0 24 24\"\n",
       "       width=\"24px\">\n",
       "    <path d=\"M0 0h24v24H0V0z\" fill=\"none\"/>\n",
       "    <path d=\"M18.56 5.44l.94 2.06.94-2.06 2.06-.94-2.06-.94-.94-2.06-.94 2.06-2.06.94zm-11 1L8.5 8.5l.94-2.06 2.06-.94-2.06-.94L8.5 2.5l-.94 2.06-2.06.94zm10 10l.94 2.06.94-2.06 2.06-.94-2.06-.94-.94-2.06-.94 2.06-2.06.94z\"/><path d=\"M17.41 7.96l-1.37-1.37c-.4-.4-.92-.59-1.43-.59-.52 0-1.04.2-1.43.59L10.3 9.45l-7.72 7.72c-.78.78-.78 2.05 0 2.83L4 21.41c.39.39.9.59 1.41.59.51 0 1.02-.2 1.41-.59l7.78-7.78 2.81-2.81c.8-.78.8-2.07 0-2.86zM5.41 20L4 18.59l7.72-7.72 1.47 1.35L5.41 20z\"/>\n",
       "  </svg>\n",
       "      </button>\n",
       "      \n",
       "  <style>\n",
       "    .colab-df-container {\n",
       "      display:flex;\n",
       "      flex-wrap:wrap;\n",
       "      gap: 12px;\n",
       "    }\n",
       "\n",
       "    .colab-df-convert {\n",
       "      background-color: #E8F0FE;\n",
       "      border: none;\n",
       "      border-radius: 50%;\n",
       "      cursor: pointer;\n",
       "      display: none;\n",
       "      fill: #1967D2;\n",
       "      height: 32px;\n",
       "      padding: 0 0 0 0;\n",
       "      width: 32px;\n",
       "    }\n",
       "\n",
       "    .colab-df-convert:hover {\n",
       "      background-color: #E2EBFA;\n",
       "      box-shadow: 0px 1px 2px rgba(60, 64, 67, 0.3), 0px 1px 3px 1px rgba(60, 64, 67, 0.15);\n",
       "      fill: #174EA6;\n",
       "    }\n",
       "\n",
       "    [theme=dark] .colab-df-convert {\n",
       "      background-color: #3B4455;\n",
       "      fill: #D2E3FC;\n",
       "    }\n",
       "\n",
       "    [theme=dark] .colab-df-convert:hover {\n",
       "      background-color: #434B5C;\n",
       "      box-shadow: 0px 1px 3px 1px rgba(0, 0, 0, 0.15);\n",
       "      filter: drop-shadow(0px 1px 2px rgba(0, 0, 0, 0.3));\n",
       "      fill: #FFFFFF;\n",
       "    }\n",
       "  </style>\n",
       "\n",
       "      <script>\n",
       "        const buttonEl =\n",
       "          document.querySelector('#df-a1f1ba35-44ca-4876-a71e-2fb7d1746f05 button.colab-df-convert');\n",
       "        buttonEl.style.display =\n",
       "          google.colab.kernel.accessAllowed ? 'block' : 'none';\n",
       "\n",
       "        async function convertToInteractive(key) {\n",
       "          const element = document.querySelector('#df-a1f1ba35-44ca-4876-a71e-2fb7d1746f05');\n",
       "          const dataTable =\n",
       "            await google.colab.kernel.invokeFunction('convertToInteractive',\n",
       "                                                     [key], {});\n",
       "          if (!dataTable) return;\n",
       "\n",
       "          const docLinkHtml = 'Like what you see? Visit the ' +\n",
       "            '<a target=\"_blank\" href=https://colab.research.google.com/notebooks/data_table.ipynb>data table notebook</a>'\n",
       "            + ' to learn more about interactive tables.';\n",
       "          element.innerHTML = '';\n",
       "          dataTable['output_type'] = 'display_data';\n",
       "          await google.colab.output.renderOutput(dataTable, element);\n",
       "          const docLink = document.createElement('div');\n",
       "          docLink.innerHTML = docLinkHtml;\n",
       "          element.appendChild(docLink);\n",
       "        }\n",
       "      </script>\n",
       "    </div>\n",
       "  </div>\n",
       "  "
      ],
      "text/plain": [
       "   sepal_length  sepal_width  petal_length  pedal_width\n",
       "0           5.1          3.5           1.4          0.2\n",
       "1           4.9          3.0           1.4          0.2\n",
       "2           4.7          3.2           1.3          0.2\n",
       "3           4.6          3.1           1.5          0.2\n",
       "4           5.0          3.6           1.4          0.2"
      ]
     },
     "execution_count": 40,
     "metadata": {},
     "output_type": "execute_result"
    }
   ],
   "source": [
    "xp.head()"
   ]
  },
  {
   "cell_type": "code",
   "execution_count": 42,
   "metadata": {
    "colab": {
     "base_uri": "https://localhost:8080/"
    },
    "id": "q6vKsFdt9YjC",
    "outputId": "bb42932e-92d8-4f18-f5ff-3eae1614e0fe"
   },
   "outputs": [
    {
     "data": {
      "text/plain": [
       "0    5.1\n",
       "1    4.9\n",
       "2    4.7\n",
       "3    4.6\n",
       "4    5.0\n",
       "Name: sepal_length, dtype: float64"
      ]
     },
     "execution_count": 42,
     "metadata": {},
     "output_type": "execute_result"
    }
   ],
   "source": [
    "xp.iloc[:5,0]"
   ]
  },
  {
   "cell_type": "markdown",
   "metadata": {
    "id": "yBlJBnOCOLsY"
   },
   "source": [
    "#Verideki tüm nitelikleri 3 kategoriye ayırıyoruz (0,1,2)"
   ]
  },
  {
   "cell_type": "code",
   "execution_count": 45,
   "metadata": {
    "colab": {
     "base_uri": "https://localhost:8080/"
    },
    "id": "dGzcLN1R-G_C",
    "outputId": "b553148e-a9dc-4a81-c2c7-73d15c525f97"
   },
   "outputs": [
    {
     "data": {
      "text/plain": [
       "7.9"
      ]
     },
     "execution_count": 45,
     "metadata": {},
     "output_type": "execute_result"
    }
   ],
   "source": [
    "max(xp.iloc[:,0])"
   ]
  },
  {
   "cell_type": "code",
   "execution_count": 109,
   "metadata": {
    "id": "xeiFAqy0-fF6"
   },
   "outputs": [],
   "source": [
    "maksimumlar=xp.max() #hepsinin maximumu"
   ]
  },
  {
   "cell_type": "code",
   "execution_count": 110,
   "metadata": {
    "id": "Ht36aIXC-8cp"
   },
   "outputs": [],
   "source": [
    "minimumlar=xp.min()"
   ]
  },
  {
   "cell_type": "code",
   "execution_count": 111,
   "metadata": {
    "colab": {
     "base_uri": "https://localhost:8080/"
    },
    "id": "1QObLvq8_At9",
    "outputId": "850d3e34-5b50-40d0-b847-f459ca4b07d2"
   },
   "outputs": [
    {
     "name": "stdout",
     "output_type": "stream",
     "text": [
      "sepal_length       1.200000\n",
      "sepal_width        0.800000\n",
      "petal_length       1.966667\n",
      "pedal_width        0.800000\n",
      "sepal_kategorik    0.666667\n",
      "dtype: float64\n",
      "sepal_length       5.500000\n",
      "sepal_width        2.800000\n",
      "petal_length       2.966667\n",
      "pedal_width        0.900000\n",
      "sepal_kategorik    0.666667\n",
      "dtype: float64\n",
      "sepal_length       6.700000\n",
      "sepal_width        3.600000\n",
      "petal_length       4.933333\n",
      "pedal_width        1.700000\n",
      "sepal_kategorik    1.333333\n",
      "dtype: float64\n"
     ]
    }
   ],
   "source": [
    "birimparca=(maksimumlar-minimumlar)/3\n",
    "print(birimparca)\n",
    "ilksinir=minimumlar+birimparca\n",
    "print(ilksinir)\n",
    "ikincisinir=maksimumlar-birimparca\n",
    "print(ikincisinir)"
   ]
  },
  {
   "cell_type": "code",
   "execution_count": 117,
   "metadata": {
    "colab": {
     "base_uri": "https://localhost:8080/",
     "height": 206
    },
    "id": "uSavq7AWDCrg",
    "outputId": "fb623a9f-6435-46dc-e75f-ff6335d91240"
   },
   "outputs": [
    {
     "data": {
      "text/html": [
       "\n",
       "  <div id=\"df-71e1a7d1-7900-4260-b0c6-d0c42ba414d5\">\n",
       "    <div class=\"colab-df-container\">\n",
       "      <div>\n",
       "<style scoped>\n",
       "    .dataframe tbody tr th:only-of-type {\n",
       "        vertical-align: middle;\n",
       "    }\n",
       "\n",
       "    .dataframe tbody tr th {\n",
       "        vertical-align: top;\n",
       "    }\n",
       "\n",
       "    .dataframe thead th {\n",
       "        text-align: right;\n",
       "    }\n",
       "</style>\n",
       "<table border=\"1\" class=\"dataframe\">\n",
       "  <thead>\n",
       "    <tr style=\"text-align: right;\">\n",
       "      <th></th>\n",
       "      <th>sepal_length_ktgri</th>\n",
       "      <th>sepal_width_ktgri</th>\n",
       "      <th>petal_length_ktgri</th>\n",
       "      <th>pedal_width_ktgri</th>\n",
       "    </tr>\n",
       "  </thead>\n",
       "  <tbody>\n",
       "    <tr>\n",
       "      <th>0</th>\n",
       "      <td>0</td>\n",
       "      <td>1</td>\n",
       "      <td>0</td>\n",
       "      <td>0</td>\n",
       "    </tr>\n",
       "    <tr>\n",
       "      <th>1</th>\n",
       "      <td>0</td>\n",
       "      <td>1</td>\n",
       "      <td>0</td>\n",
       "      <td>0</td>\n",
       "    </tr>\n",
       "    <tr>\n",
       "      <th>2</th>\n",
       "      <td>0</td>\n",
       "      <td>1</td>\n",
       "      <td>0</td>\n",
       "      <td>0</td>\n",
       "    </tr>\n",
       "    <tr>\n",
       "      <th>3</th>\n",
       "      <td>0</td>\n",
       "      <td>1</td>\n",
       "      <td>0</td>\n",
       "      <td>0</td>\n",
       "    </tr>\n",
       "    <tr>\n",
       "      <th>4</th>\n",
       "      <td>0</td>\n",
       "      <td>1</td>\n",
       "      <td>0</td>\n",
       "      <td>0</td>\n",
       "    </tr>\n",
       "  </tbody>\n",
       "</table>\n",
       "</div>\n",
       "      <button class=\"colab-df-convert\" onclick=\"convertToInteractive('df-71e1a7d1-7900-4260-b0c6-d0c42ba414d5')\"\n",
       "              title=\"Convert this dataframe to an interactive table.\"\n",
       "              style=\"display:none;\">\n",
       "        \n",
       "  <svg xmlns=\"http://www.w3.org/2000/svg\" height=\"24px\"viewBox=\"0 0 24 24\"\n",
       "       width=\"24px\">\n",
       "    <path d=\"M0 0h24v24H0V0z\" fill=\"none\"/>\n",
       "    <path d=\"M18.56 5.44l.94 2.06.94-2.06 2.06-.94-2.06-.94-.94-2.06-.94 2.06-2.06.94zm-11 1L8.5 8.5l.94-2.06 2.06-.94-2.06-.94L8.5 2.5l-.94 2.06-2.06.94zm10 10l.94 2.06.94-2.06 2.06-.94-2.06-.94-.94-2.06-.94 2.06-2.06.94z\"/><path d=\"M17.41 7.96l-1.37-1.37c-.4-.4-.92-.59-1.43-.59-.52 0-1.04.2-1.43.59L10.3 9.45l-7.72 7.72c-.78.78-.78 2.05 0 2.83L4 21.41c.39.39.9.59 1.41.59.51 0 1.02-.2 1.41-.59l7.78-7.78 2.81-2.81c.8-.78.8-2.07 0-2.86zM5.41 20L4 18.59l7.72-7.72 1.47 1.35L5.41 20z\"/>\n",
       "  </svg>\n",
       "      </button>\n",
       "      \n",
       "  <style>\n",
       "    .colab-df-container {\n",
       "      display:flex;\n",
       "      flex-wrap:wrap;\n",
       "      gap: 12px;\n",
       "    }\n",
       "\n",
       "    .colab-df-convert {\n",
       "      background-color: #E8F0FE;\n",
       "      border: none;\n",
       "      border-radius: 50%;\n",
       "      cursor: pointer;\n",
       "      display: none;\n",
       "      fill: #1967D2;\n",
       "      height: 32px;\n",
       "      padding: 0 0 0 0;\n",
       "      width: 32px;\n",
       "    }\n",
       "\n",
       "    .colab-df-convert:hover {\n",
       "      background-color: #E2EBFA;\n",
       "      box-shadow: 0px 1px 2px rgba(60, 64, 67, 0.3), 0px 1px 3px 1px rgba(60, 64, 67, 0.15);\n",
       "      fill: #174EA6;\n",
       "    }\n",
       "\n",
       "    [theme=dark] .colab-df-convert {\n",
       "      background-color: #3B4455;\n",
       "      fill: #D2E3FC;\n",
       "    }\n",
       "\n",
       "    [theme=dark] .colab-df-convert:hover {\n",
       "      background-color: #434B5C;\n",
       "      box-shadow: 0px 1px 3px 1px rgba(0, 0, 0, 0.15);\n",
       "      filter: drop-shadow(0px 1px 2px rgba(0, 0, 0, 0.3));\n",
       "      fill: #FFFFFF;\n",
       "    }\n",
       "  </style>\n",
       "\n",
       "      <script>\n",
       "        const buttonEl =\n",
       "          document.querySelector('#df-71e1a7d1-7900-4260-b0c6-d0c42ba414d5 button.colab-df-convert');\n",
       "        buttonEl.style.display =\n",
       "          google.colab.kernel.accessAllowed ? 'block' : 'none';\n",
       "\n",
       "        async function convertToInteractive(key) {\n",
       "          const element = document.querySelector('#df-71e1a7d1-7900-4260-b0c6-d0c42ba414d5');\n",
       "          const dataTable =\n",
       "            await google.colab.kernel.invokeFunction('convertToInteractive',\n",
       "                                                     [key], {});\n",
       "          if (!dataTable) return;\n",
       "\n",
       "          const docLinkHtml = 'Like what you see? Visit the ' +\n",
       "            '<a target=\"_blank\" href=https://colab.research.google.com/notebooks/data_table.ipynb>data table notebook</a>'\n",
       "            + ' to learn more about interactive tables.';\n",
       "          element.innerHTML = '';\n",
       "          dataTable['output_type'] = 'display_data';\n",
       "          await google.colab.output.renderOutput(dataTable, element);\n",
       "          const docLink = document.createElement('div');\n",
       "          docLink.innerHTML = docLinkHtml;\n",
       "          element.appendChild(docLink);\n",
       "        }\n",
       "      </script>\n",
       "    </div>\n",
       "  </div>\n",
       "  "
      ],
      "text/plain": [
       "  sepal_length_ktgri sepal_width_ktgri petal_length_ktgri pedal_width_ktgri\n",
       "0                  0                 1                  0                 0\n",
       "1                  0                 1                  0                 0\n",
       "2                  0                 1                  0                 0\n",
       "3                  0                 1                  0                 0\n",
       "4                  0                 1                  0                 0"
      ]
     },
     "execution_count": 117,
     "metadata": {},
     "output_type": "execute_result"
    }
   ],
   "source": [
    "kategorik=pd.DataFrame()\n",
    "labels = [0,1,2]\n",
    "\n",
    "for i in range(4):\n",
    "  bins = [-np.inf,ilksinir[i], ikincisinir[i], np.inf]    \n",
    "  temp = pd.cut(xp.iloc[:,i], bins=bins, labels=labels)\n",
    "  kategorik[xp.columns[i]+\"_ktgri\"]=temp\n",
    "kategorik.head()\n",
    "\n"
   ]
  },
  {
   "cell_type": "code",
   "execution_count": 118,
   "metadata": {
    "colab": {
     "base_uri": "https://localhost:8080/",
     "height": 206
    },
    "id": "a-bZg24rLfKh",
    "outputId": "dad025d7-4282-440e-f476-aed3bcdf45e9"
   },
   "outputs": [
    {
     "data": {
      "text/html": [
       "\n",
       "  <div id=\"df-a1574685-04a2-4ef7-9e1f-035aec762b2f\">\n",
       "    <div class=\"colab-df-container\">\n",
       "      <div>\n",
       "<style scoped>\n",
       "    .dataframe tbody tr th:only-of-type {\n",
       "        vertical-align: middle;\n",
       "    }\n",
       "\n",
       "    .dataframe tbody tr th {\n",
       "        vertical-align: top;\n",
       "    }\n",
       "\n",
       "    .dataframe thead th {\n",
       "        text-align: right;\n",
       "    }\n",
       "</style>\n",
       "<table border=\"1\" class=\"dataframe\">\n",
       "  <thead>\n",
       "    <tr style=\"text-align: right;\">\n",
       "      <th></th>\n",
       "      <th>sepal_length_ktgri</th>\n",
       "      <th>sepal_width_ktgri</th>\n",
       "      <th>petal_length_ktgri</th>\n",
       "      <th>pedal_width_ktgri</th>\n",
       "      <th>Class</th>\n",
       "    </tr>\n",
       "  </thead>\n",
       "  <tbody>\n",
       "    <tr>\n",
       "      <th>0</th>\n",
       "      <td>0</td>\n",
       "      <td>1</td>\n",
       "      <td>0</td>\n",
       "      <td>0</td>\n",
       "      <td>0</td>\n",
       "    </tr>\n",
       "    <tr>\n",
       "      <th>1</th>\n",
       "      <td>0</td>\n",
       "      <td>1</td>\n",
       "      <td>0</td>\n",
       "      <td>0</td>\n",
       "      <td>0</td>\n",
       "    </tr>\n",
       "    <tr>\n",
       "      <th>2</th>\n",
       "      <td>0</td>\n",
       "      <td>1</td>\n",
       "      <td>0</td>\n",
       "      <td>0</td>\n",
       "      <td>0</td>\n",
       "    </tr>\n",
       "    <tr>\n",
       "      <th>3</th>\n",
       "      <td>0</td>\n",
       "      <td>1</td>\n",
       "      <td>0</td>\n",
       "      <td>0</td>\n",
       "      <td>0</td>\n",
       "    </tr>\n",
       "    <tr>\n",
       "      <th>4</th>\n",
       "      <td>0</td>\n",
       "      <td>1</td>\n",
       "      <td>0</td>\n",
       "      <td>0</td>\n",
       "      <td>0</td>\n",
       "    </tr>\n",
       "  </tbody>\n",
       "</table>\n",
       "</div>\n",
       "      <button class=\"colab-df-convert\" onclick=\"convertToInteractive('df-a1574685-04a2-4ef7-9e1f-035aec762b2f')\"\n",
       "              title=\"Convert this dataframe to an interactive table.\"\n",
       "              style=\"display:none;\">\n",
       "        \n",
       "  <svg xmlns=\"http://www.w3.org/2000/svg\" height=\"24px\"viewBox=\"0 0 24 24\"\n",
       "       width=\"24px\">\n",
       "    <path d=\"M0 0h24v24H0V0z\" fill=\"none\"/>\n",
       "    <path d=\"M18.56 5.44l.94 2.06.94-2.06 2.06-.94-2.06-.94-.94-2.06-.94 2.06-2.06.94zm-11 1L8.5 8.5l.94-2.06 2.06-.94-2.06-.94L8.5 2.5l-.94 2.06-2.06.94zm10 10l.94 2.06.94-2.06 2.06-.94-2.06-.94-.94-2.06-.94 2.06-2.06.94z\"/><path d=\"M17.41 7.96l-1.37-1.37c-.4-.4-.92-.59-1.43-.59-.52 0-1.04.2-1.43.59L10.3 9.45l-7.72 7.72c-.78.78-.78 2.05 0 2.83L4 21.41c.39.39.9.59 1.41.59.51 0 1.02-.2 1.41-.59l7.78-7.78 2.81-2.81c.8-.78.8-2.07 0-2.86zM5.41 20L4 18.59l7.72-7.72 1.47 1.35L5.41 20z\"/>\n",
       "  </svg>\n",
       "      </button>\n",
       "      \n",
       "  <style>\n",
       "    .colab-df-container {\n",
       "      display:flex;\n",
       "      flex-wrap:wrap;\n",
       "      gap: 12px;\n",
       "    }\n",
       "\n",
       "    .colab-df-convert {\n",
       "      background-color: #E8F0FE;\n",
       "      border: none;\n",
       "      border-radius: 50%;\n",
       "      cursor: pointer;\n",
       "      display: none;\n",
       "      fill: #1967D2;\n",
       "      height: 32px;\n",
       "      padding: 0 0 0 0;\n",
       "      width: 32px;\n",
       "    }\n",
       "\n",
       "    .colab-df-convert:hover {\n",
       "      background-color: #E2EBFA;\n",
       "      box-shadow: 0px 1px 2px rgba(60, 64, 67, 0.3), 0px 1px 3px 1px rgba(60, 64, 67, 0.15);\n",
       "      fill: #174EA6;\n",
       "    }\n",
       "\n",
       "    [theme=dark] .colab-df-convert {\n",
       "      background-color: #3B4455;\n",
       "      fill: #D2E3FC;\n",
       "    }\n",
       "\n",
       "    [theme=dark] .colab-df-convert:hover {\n",
       "      background-color: #434B5C;\n",
       "      box-shadow: 0px 1px 3px 1px rgba(0, 0, 0, 0.15);\n",
       "      filter: drop-shadow(0px 1px 2px rgba(0, 0, 0, 0.3));\n",
       "      fill: #FFFFFF;\n",
       "    }\n",
       "  </style>\n",
       "\n",
       "      <script>\n",
       "        const buttonEl =\n",
       "          document.querySelector('#df-a1574685-04a2-4ef7-9e1f-035aec762b2f button.colab-df-convert');\n",
       "        buttonEl.style.display =\n",
       "          google.colab.kernel.accessAllowed ? 'block' : 'none';\n",
       "\n",
       "        async function convertToInteractive(key) {\n",
       "          const element = document.querySelector('#df-a1574685-04a2-4ef7-9e1f-035aec762b2f');\n",
       "          const dataTable =\n",
       "            await google.colab.kernel.invokeFunction('convertToInteractive',\n",
       "                                                     [key], {});\n",
       "          if (!dataTable) return;\n",
       "\n",
       "          const docLinkHtml = 'Like what you see? Visit the ' +\n",
       "            '<a target=\"_blank\" href=https://colab.research.google.com/notebooks/data_table.ipynb>data table notebook</a>'\n",
       "            + ' to learn more about interactive tables.';\n",
       "          element.innerHTML = '';\n",
       "          dataTable['output_type'] = 'display_data';\n",
       "          await google.colab.output.renderOutput(dataTable, element);\n",
       "          const docLink = document.createElement('div');\n",
       "          docLink.innerHTML = docLinkHtml;\n",
       "          element.appendChild(docLink);\n",
       "        }\n",
       "      </script>\n",
       "    </div>\n",
       "  </div>\n",
       "  "
      ],
      "text/plain": [
       "  sepal_length_ktgri sepal_width_ktgri petal_length_ktgri pedal_width_ktgri  \\\n",
       "0                  0                 1                  0                 0   \n",
       "1                  0                 1                  0                 0   \n",
       "2                  0                 1                  0                 0   \n",
       "3                  0                 1                  0                 0   \n",
       "4                  0                 1                  0                 0   \n",
       "\n",
       "   Class  \n",
       "0      0  \n",
       "1      0  \n",
       "2      0  \n",
       "3      0  \n",
       "4      0  "
      ]
     },
     "execution_count": 118,
     "metadata": {},
     "output_type": "execute_result"
    }
   ],
   "source": [
    "data=kategorik\n",
    "data[\"Class\"]=yp\n",
    "data.head()"
   ]
  },
  {
   "cell_type": "markdown",
   "metadata": {
    "id": "T-I28jKzOj1I"
   },
   "source": [
    "#entropi fonksiyonu"
   ]
  },
  {
   "cell_type": "code",
   "execution_count": 115,
   "metadata": {
    "id": "JUl9BTk858ha"
   },
   "outputs": [],
   "source": [
    "def compute_impurity(feature, impurity_criterion):\n",
    "    probs = feature.value_counts(normalize=True) #nitelik türünün oranı örn: n_yas/n_toplam\n",
    "\n",
    "    if impurity_criterion == 'entropy':\n",
    "        impurity = -1 * np.sum(np.log2(probs) * probs)\n",
    "    elif impurity_criterion == 'gini':\n",
    "        impurity = 1 - np.sum(np.square(probs))\n",
    "    else:\n",
    "        raise ValueError('Unknown impurity criterion')\n",
    "        \n",
    "    return(round(impurity, 3))\n",
    "\n"
   ]
  },
  {
   "cell_type": "markdown",
   "metadata": {
    "id": "Qhd2QE-9Of_h"
   },
   "source": [
    "#Information Gain ve Gain Ratio Fonksiyonu"
   ]
  },
  {
   "cell_type": "code",
   "execution_count": 116,
   "metadata": {
    "id": "7cFu67-G5hs-"
   },
   "outputs": [],
   "source": [
    "def information_gain(df, target, descriptive_feature, split_criterion):\n",
    "    \n",
    "    print('target feature:', target) #hedef/sonuç sınıf\n",
    "    print('descriptive_feature:', descriptive_feature) #incelenen sınıf\n",
    "    print('split criterion:', split_criterion) #bölme yöntemi (gini,entropy)\n",
    "            \n",
    "    target_entropy = compute_impurity(df[target], split_criterion) #InfoD/GiniD hesabı\n",
    "    \n",
    "    entropy_list = list()\n",
    "    weight_list = list()\n",
    "    \n",
    "    \n",
    "   \n",
    "    for level in df[descriptive_feature].unique(): #niteliğin her kategorisi için\n",
    "        df_feature_level = df[df[descriptive_feature] == level] #ilgili alt kategori için filtrele       \n",
    "        entropy_level = compute_impurity(df_feature_level[target], split_criterion)\n",
    "        entropy_list.append(round(entropy_level, 3))\n",
    "        weight_level = len(df_feature_level) / len(df)\n",
    "        weight_list.append(round(weight_level, 3))\n",
    "\n",
    "    feature_split_info = compute_impurity(df[descriptive_feature], \"entropy\")\n",
    "    print(\"Split_Info_\",descriptive_feature,\":\",feature_split_info)\n",
    "    feature_remaining_impurity = np.sum(np.array(entropy_list) * np.array(weight_list))   \n",
    "    print('InfoD_',descriptive_feature, feature_remaining_impurity)\n",
    "    \n",
    "    information_gain = target_entropy - feature_remaining_impurity\n",
    "    print('information gain:', information_gain)\n",
    "\n",
    "    feature_gain_ratio=information_gain/feature_split_info\n",
    "    print(\"gain ratio: \", feature_gain_ratio)\n",
    "\n",
    "\n",
    "    \n",
    "    print('====================')\n",
    "\n",
    "    return(information_gain)"
   ]
  },
  {
   "cell_type": "markdown",
   "metadata": {
    "id": "k-svkUNpOtLc"
   },
   "source": [
    "#Information Gain ve Gain Ratio Hesaplıyoruz"
   ]
  },
  {
   "cell_type": "code",
   "execution_count": 119,
   "metadata": {
    "colab": {
     "base_uri": "https://localhost:8080/"
    },
    "id": "GACzdPLo5oDK",
    "outputId": "de327280-b7af-4ab1-a57e-2dd98e24f247"
   },
   "outputs": [
    {
     "name": "stdout",
     "output_type": "stream",
     "text": [
      "target feature: Class\n",
      "descriptive_feature: sepal_length_ktgri\n",
      "split criterion: entropy\n",
      "Split_Info_ sepal_length_ktgri : 1.428\n",
      "InfoD_ sepal_length_ktgri 0.972023\n",
      "information gain: 0.612977\n",
      "gain ratio:  0.4292556022408964\n",
      "====================\n",
      "target feature: Class\n",
      "descriptive_feature: sepal_width_ktgri\n",
      "split criterion: entropy\n",
      "Split_Info_ sepal_width_ktgri : 1.308\n",
      "InfoD_ sepal_width_ktgri 1.3191849999999998\n",
      "information gain: 0.26581500000000013\n",
      "gain ratio:  0.20322247706422028\n",
      "====================\n",
      "target feature: Class\n",
      "descriptive_feature: petal_length_ktgri\n",
      "split criterion: entropy\n",
      "Split_Info_ petal_length_ktgri : 1.582\n",
      "InfoD_ petal_length_ktgri 0.260286\n",
      "information gain: 1.324714\n",
      "gain ratio:  0.8373666245259165\n",
      "====================\n",
      "target feature: Class\n",
      "descriptive_feature: pedal_width_ktgri\n",
      "split criterion: entropy\n",
      "Split_Info_ pedal_width_ktgri : 1.582\n",
      "InfoD_ pedal_width_ktgri 0.206557\n",
      "information gain: 1.3784429999999999\n",
      "gain ratio:  0.8713293299620732\n",
      "====================\n"
     ]
    }
   ],
   "source": [
    "#Class : çıktı sınıfı\n",
    "split_criterion = 'entropy' #gini/entropy\n",
    "for feature in data.drop(columns='Class').columns: \n",
    "  feature_info_gain = information_gain(data, 'Class', feature, split_criterion)"
   ]
  },
  {
   "cell_type": "code",
   "execution_count": null,
   "metadata": {
    "id": "AU93JfrAzgxI"
   },
   "outputs": [],
   "source": []
  },
  {
   "cell_type": "markdown",
   "metadata": {
    "id": "xowONl8lOyCf"
   },
   "source": [
    "#Gini Indeks Fonksiyonu"
   ]
  },
  {
   "cell_type": "code",
   "execution_count": 120,
   "metadata": {
    "id": "7eq1ySEif8AZ"
   },
   "outputs": [],
   "source": [
    "def gini_Index(df, target, descriptive_feature, split_criterion):\n",
    "    \n",
    "    print('target feature:', target) #hedef/sonuç sınıf\n",
    "    print('descriptive_feature:', descriptive_feature) #incelenen sınıf\n",
    "    print('split criterion:', split_criterion) #bölme yöntemi (gini,entropy)\n",
    "            \n",
    "    target_entropy = compute_impurity(df[target], split_criterion) #InfoD/GiniD hesabı\n",
    "  \n",
    "    entropy_list = list()\n",
    "    weight_list = list()\n",
    "    \n",
    "    # loop over each level of the descriptive feature\n",
    "    # to partition the dataset with respect to that level\n",
    "    # and compute the entropy and the weight of the level's partition\n",
    "    levels=data[feature].unique()\n",
    "    uzunluk=len(levels)\n",
    "    if uzunluk==2:\n",
    "      for level in levels: #niteliğin her kategorisi için\n",
    "          df_feature_level = df[df[descriptive_feature] == level] #ilgili alt kategori için filtrele       \n",
    "          entropy_level = compute_impurity(df_feature_level[target], split_criterion)\n",
    "          entropy_list.append(round(entropy_level, 3))\n",
    "          weight_level = len(df_feature_level) / len(df)\n",
    "          weight_list.append(round(weight_level, 3))\n",
    "      feature_remaining_impurity = np.sum(np.array(entropy_list) * np.array(weight_list))\n",
    "      print('InfoD_',descriptive_feature, feature_remaining_impurity)\n",
    "      \n",
    "      information_gain = target_entropy - feature_remaining_impurity\n",
    "      print('information gain:', information_gain)\n",
    "      \n",
    "      print('====================')\n",
    "\n",
    "     \n",
    "    elif uzunluk==3:\n",
    "      indisler=[[0,1,2],[1,0,2],[2,0,1]]\n",
    "      for ind in indisler:\n",
    "        entropy_list = list()\n",
    "        weight_list = list()\n",
    "        birincil=levels[ind[0]]\n",
    "        df_feature_level1 = df[df[descriptive_feature] == birincil]     \n",
    "        entropy_level = compute_impurity(df_feature_level1[target], split_criterion)\n",
    "        entropy_list.append(round(entropy_level, 3))\n",
    "        weight_level = len(df_feature_level1) / len(df)\n",
    "        weight_list.append(round(weight_level, 3))\n",
    "        ikincil1=levels[ind[1]]\n",
    "        ikincil2=levels[ind[2]]\n",
    "        df_feature_level2 = df[df[descriptive_feature] == ikincil1]\n",
    "        df_feature_level3 = df[df[descriptive_feature] == ikincil2]\n",
    "        df_concatted=pd.concat([df_feature_level2,df_feature_level3])\n",
    "        entropy_level = compute_impurity(df_concatted[target], split_criterion)\n",
    "        entropy_list.append(round(entropy_level, 3))\n",
    "        weight_level = len(df_concatted) / len(df)\n",
    "        weight_list.append(round(weight_level, 3))\n",
    "\n",
    "        print(\"Gini_\",birincil,\", {\",ikincil1,\", \",ikincil2,\"}\")\n",
    "\n",
    "        feature_remaining_impurity = np.sum(np.array(entropy_list) * np.array(weight_list))\n",
    "        print('InfoD_',descriptive_feature, feature_remaining_impurity)\n",
    "        \n",
    "        information_gain = target_entropy - feature_remaining_impurity\n",
    "        print('information gain:', information_gain)\n",
    "        \n",
    "        print('====================')\n",
    "\n",
    "       \n",
    "    \n",
    "    else:\n",
    "      print(\"tanımsız\")\n",
    "\n",
    "\n",
    "  "
   ]
  },
  {
   "cell_type": "markdown",
   "metadata": {
    "id": "77N26wm5O6sQ"
   },
   "source": [
    "# Gini Index Hesabı"
   ]
  },
  {
   "cell_type": "code",
   "execution_count": 121,
   "metadata": {
    "colab": {
     "base_uri": "https://localhost:8080/"
    },
    "id": "-VdSsl1VgCeS",
    "outputId": "d4f5b961-3a5a-4c09-e434-c6401d61984e"
   },
   "outputs": [
    {
     "name": "stdout",
     "output_type": "stream",
     "text": [
      "target feature: Class\n",
      "descriptive_feature: sepal_length_ktgri\n",
      "split criterion: gini\n",
      "Gini_ 0 , { 1 ,  2 }\n",
      "InfoD_ sepal_length_ktgri 0.448365\n",
      "information gain: 0.21863500000000002\n",
      "====================\n",
      "Gini_ 1 , { 0 ,  2 }\n",
      "InfoD_ sepal_length_ktgri 0.551175\n",
      "information gain: 0.11582500000000007\n",
      "====================\n",
      "Gini_ 2 , { 0 ,  1 }\n",
      "InfoD_ sepal_length_ktgri 0.603534\n",
      "information gain: 0.06346600000000002\n",
      "====================\n",
      "target feature: Class\n",
      "descriptive_feature: sepal_width_ktgri\n",
      "split criterion: gini\n",
      "Gini_ 1 , { 2 ,  0 }\n",
      "InfoD_ sepal_width_ktgri 0.651457\n",
      "information gain: 0.015543000000000085\n",
      "====================\n",
      "Gini_ 2 , { 1 ,  0 }\n",
      "InfoD_ sepal_width_ktgri 0.6180000000000001\n",
      "information gain: 0.04899999999999993\n",
      "====================\n",
      "Gini_ 0 , { 1 ,  2 }\n",
      "InfoD_ sepal_width_ktgri 0.593249\n",
      "information gain: 0.07375100000000001\n",
      "====================\n",
      "target feature: Class\n",
      "descriptive_feature: petal_length_ktgri\n",
      "split criterion: gini\n",
      "Gini_ 0 , { 1 ,  2 }\n",
      "InfoD_ petal_length_ktgri 0.3335\n",
      "information gain: 0.3335\n",
      "====================\n",
      "Gini_ 1 , { 0 ,  2 }\n",
      "InfoD_ petal_length_ktgri 0.40280000000000005\n",
      "information gain: 0.2642\n",
      "====================\n",
      "Gini_ 2 , { 0 ,  1 }\n",
      "InfoD_ petal_length_ktgri 0.40870999999999996\n",
      "information gain: 0.2582900000000001\n",
      "====================\n",
      "target feature: Class\n",
      "descriptive_feature: pedal_width_ktgri\n",
      "split criterion: gini\n",
      "Gini_ 0 , { 1 ,  2 }\n",
      "InfoD_ pedal_width_ktgri 0.3335\n",
      "information gain: 0.3335\n",
      "====================\n",
      "Gini_ 1 , { 0 ,  2 }\n",
      "InfoD_ pedal_width_ktgri 0.38623999999999997\n",
      "information gain: 0.28076000000000007\n",
      "====================\n",
      "Gini_ 2 , { 0 ,  1 }\n",
      "InfoD_ pedal_width_ktgri 0.390886\n",
      "information gain: 0.276114\n",
      "====================\n"
     ]
    }
   ],
   "source": [
    "#Class : çıktı sınıfı\n",
    "split_criterion = 'gini' #gini/entropy\n",
    "for feature in data.drop(columns='Class').columns: \n",
    "  feature_info_gain = gini_Index(data, 'Class', feature, split_criterion)"
   ]
  },
  {
   "cell_type": "code",
   "execution_count": null,
   "metadata": {
    "id": "UVZc37mPww74"
   },
   "outputs": [],
   "source": []
  }
 ],
 "metadata": {
  "colab": {
   "provenance": []
  },
  "kernelspec": {
   "display_name": "Python 3 (ipykernel)",
   "language": "python",
   "name": "python3"
  },
  "language_info": {
   "codemirror_mode": {
    "name": "ipython",
    "version": 3
   },
   "file_extension": ".py",
   "mimetype": "text/x-python",
   "name": "python",
   "nbconvert_exporter": "python",
   "pygments_lexer": "ipython3",
   "version": "3.10.4"
  }
 },
 "nbformat": 4,
 "nbformat_minor": 1
}
