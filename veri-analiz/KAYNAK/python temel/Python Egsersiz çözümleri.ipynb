{
 "cells": [
  {
   "cell_type": "markdown",
   "metadata": {},
   "source": [
    "# PYTHON EGSERSİZ"
   ]
  },
  {
   "cell_type": "markdown",
   "metadata": {},
   "source": [
    "### 1. JUPYTER notebook ta kısayolları kullanarak aşağıdaki satırın bir üstüne satır ekleyip \"python egsersizleri\" yazan bir başlık ekleyin"
   ]
  },
  {
   "cell_type": "markdown",
   "metadata": {},
   "source": [
    "# python egsersizleri"
   ]
  },
  {
   "cell_type": "code",
   "execution_count": null,
   "metadata": {},
   "outputs": [],
   "source": []
  },
  {
   "cell_type": "markdown",
   "metadata": {},
   "source": [
    "### 2.\"Merhaba ben Tek\" çıktısı veren String yani bir karakter dizisi oluşturup \"x\" değişkenine atayın ve len() fonksiyonunu kullanarak karakter dizisinin uzunluğunu belirleyin"
   ]
  },
  {
   "cell_type": "code",
   "execution_count": 5,
   "metadata": {},
   "outputs": [
    {
     "data": {
      "text/plain": [
       "15"
      ]
     },
     "execution_count": 5,
     "metadata": {},
     "output_type": "execute_result"
    }
   ],
   "source": [
    "x = \"Merhaba ben Tek\"\n",
    "len(x)"
   ]
  },
  {
   "cell_type": "markdown",
   "metadata": {},
   "source": [
    "### 3.\n",
    "###   isim = \"Mehmet\"\n",
    "###   soyisim = \"Tek\"\n",
    "###   isim ve soyisim değişkenlerini ve format() metodunu kullanarak ekrana \"benim ismim Mehmet Tek\" çıktısını verin"
   ]
  },
  {
   "cell_type": "code",
   "execution_count": 8,
   "metadata": {},
   "outputs": [],
   "source": [
    "isim = \"Mehmet\"\n",
    "soyisim = \"Tek\"\n",
    "k=\"benim ismim {} {}\".format(isim,soyisim)"
   ]
  },
  {
   "cell_type": "markdown",
   "metadata": {},
   "source": [
    "### 4.Üstte oluşturduğunuz \"benim ismim Mehmet Tek\" çıktısını veren değişkeni split() metodunu kullanarak kelimelerine ayırın"
   ]
  },
  {
   "cell_type": "code",
   "execution_count": 9,
   "metadata": {},
   "outputs": [
    {
     "data": {
      "text/plain": [
       "['benim', 'ismim', 'Mehmet', 'Tek']"
      ]
     },
     "execution_count": 9,
     "metadata": {},
     "output_type": "execute_result"
    }
   ],
   "source": [
    "k.split()"
   ]
  },
  {
   "cell_type": "markdown",
   "metadata": {},
   "source": [
    "### 5.Elemanları  [\"ömer\",34,56,78,90,[4,5,6],89]  olan bir liste oluşturun.  listenize append() metodunu kullanarak \"ali\" yi ekleyin ve listeden \"90\" elemanını indexini kullanarak çekin"
   ]
  },
  {
   "cell_type": "code",
   "execution_count": 15,
   "metadata": {},
   "outputs": [
    {
     "name": "stdout",
     "output_type": "stream",
     "text": [
      "['ömer', 34, 56, 78, 90, [4, 5, 6], 89, 'ali']\n"
     ]
    },
    {
     "data": {
      "text/plain": [
       "90"
      ]
     },
     "execution_count": 15,
     "metadata": {},
     "output_type": "execute_result"
    }
   ],
   "source": [
    "liste = [\"ömer\",34,56,78,90,[4,5,6],89]\n",
    "liste.append(\"ali\")\n",
    "print(liste)\n",
    "liste[4]"
   ]
  },
  {
   "cell_type": "markdown",
   "metadata": {},
   "source": [
    "### 6.Elemanları [4,6,3,8,1,0] olan bir liste tanımlayın ve listenin küçükten büyüğe olmasını sort() metodunu kullanarak sağlayın."
   ]
  },
  {
   "cell_type": "code",
   "execution_count": 17,
   "metadata": {},
   "outputs": [
    {
     "data": {
      "text/plain": [
       "[0, 1, 3, 4, 6, 8]"
      ]
     },
     "execution_count": 17,
     "metadata": {},
     "output_type": "execute_result"
    }
   ],
   "source": [
    "eleman = [4,6,3,8,1,0]\n",
    "eleman.sort()\n",
    "eleman"
   ]
  },
  {
   "cell_type": "markdown",
   "metadata": {},
   "source": [
    "### 7. Elemanları \"ali\" : 34 ,\"ahmet\": 35 , \"kemal\" : 45 ,\"mustafa\" : 55 olan bir sözlük oluşturup keys() metoduyla bütün anahtarları çekin ,values() metoduyla da bütün değerleri çekin"
   ]
  },
  {
   "cell_type": "code",
   "execution_count": 21,
   "metadata": {},
   "outputs": [
    {
     "name": "stdout",
     "output_type": "stream",
     "text": [
      "dict_keys(['ali', 'ahmet', 'kemal', 'mustafa'])\n",
      "dict_values([34, 35, 45, 55])\n"
     ]
    }
   ],
   "source": [
    "elemanlar = {\"ali\":34 , \"ahmet\": 35 , \"kemal\": 45 , \"mustafa\": 55}\n",
    "print(elemanlar.keys())\n",
    "print(elemanlar.values())"
   ]
  },
  {
   "cell_type": "markdown",
   "metadata": {},
   "source": [
    "### 8. İnput() fonksiyonunu kullanarak kullanıcıdan \"notunuzu girin = \" yazısına cevap vermesini isteyin. Verdiği cevaba göre IF ,ELIF ve ELSE koşullu ifadesini kullanarak 90 ile 100 arasında ise \" notunuz A\",   80 ile 90 arasında ise \" notunuz B\" ,  70 ile 80 arasında ise \" notunuz C\" ,  60 ile 70 arasında ise \" notunuz D\" ,  60 ın altında ise \"Notunuz F \" ,  eğer  0 ile 100 arasında bir değer girmezse  \" Yanlış girdiniz \" yazısını çıktı veren bir kod yazınız"
   ]
  },
  {
   "cell_type": "code",
   "execution_count": 30,
   "metadata": {},
   "outputs": [
    {
     "name": "stdout",
     "output_type": "stream",
     "text": [
      "notunuzu girin = 45\n",
      "Notunuz F\n"
     ]
    }
   ],
   "source": [
    "sayı = int(input(\"notunuzu girin = \"))\n",
    "\n",
    "if sayı > 100 or sayı < 0:\n",
    "    print (\"yanlış girdiniz\")\n",
    "elif sayı > 90 and sayı <=100:\n",
    "    print (\"notunuz A\")\n",
    "elif sayı > 80 and sayı <=90:\n",
    "    print (\"notunuz B\")\n",
    "elif sayı > 70 and sayı <=80:\n",
    "    print (\"notunuz C\")\n",
    "elif sayı > 60 and sayı <=70:\n",
    "    print (\"notunuz D\")\n",
    "else:\n",
    "    print (\"Notunuz F\")"
   ]
  },
  {
   "cell_type": "markdown",
   "metadata": {},
   "source": [
    "### 9. Verdiğiniz sayının küpünü alan bir fonksiyon yazınız (Def , Return) ve bu fonksiyonu kullanarak 4 ün küpünü alınız"
   ]
  },
  {
   "cell_type": "code",
   "execution_count": 31,
   "metadata": {},
   "outputs": [
    {
     "data": {
      "text/plain": [
       "64"
      ]
     },
     "execution_count": 31,
     "metadata": {},
     "output_type": "execute_result"
    }
   ],
   "source": [
    "def küp(sayı):\n",
    "    return sayı**3\n",
    "küp(4)"
   ]
  },
  {
   "cell_type": "markdown",
   "metadata": {},
   "source": [
    "### 10. Lambda kısayol fonksiyon oluşturma ifadesini kullanarak sayının karesini alan bir fonksiyon yazınız ve bu fonksiyonla 10 un karesini alınız"
   ]
  },
  {
   "cell_type": "code",
   "execution_count": 32,
   "metadata": {},
   "outputs": [
    {
     "data": {
      "text/plain": [
       "100"
      ]
     },
     "execution_count": 32,
     "metadata": {},
     "output_type": "execute_result"
    }
   ],
   "source": [
    "y = lambda x: x**2\n",
    "y(10)"
   ]
  },
  {
   "cell_type": "markdown",
   "metadata": {},
   "source": [
    "### 11. Bir \"a\" değişkeni atayıp \"0\" değerini verin. While döngüsünü kullanarak her döngüde bir artmasını sağlayarak 10 a kadar döndürün."
   ]
  },
  {
   "cell_type": "code",
   "execution_count": 33,
   "metadata": {},
   "outputs": [
    {
     "name": "stdout",
     "output_type": "stream",
     "text": [
      "1\n",
      "2\n",
      "3\n",
      "4\n",
      "5\n",
      "6\n",
      "7\n",
      "8\n",
      "9\n",
      "10\n"
     ]
    }
   ],
   "source": [
    "a = 0\n",
    "\n",
    "while a < 10:\n",
    "    a += 1\n",
    "    print(a)"
   ]
  },
  {
   "cell_type": "markdown",
   "metadata": {},
   "source": [
    "### 12. For döngüsünü ve range() fonksiyonunu kullanarak 0 den 101 e kadar olan sayıları 5 er artarak yazdırın. "
   ]
  },
  {
   "cell_type": "code",
   "execution_count": 34,
   "metadata": {},
   "outputs": [
    {
     "name": "stdout",
     "output_type": "stream",
     "text": [
      "0\n",
      "5\n",
      "10\n",
      "15\n",
      "20\n",
      "25\n",
      "30\n",
      "35\n",
      "40\n",
      "45\n",
      "50\n",
      "55\n",
      "60\n",
      "65\n",
      "70\n",
      "75\n",
      "80\n",
      "85\n",
      "90\n",
      "95\n",
      "100\n"
     ]
    }
   ],
   "source": [
    "for i in range(0,101,5):\n",
    "    print(i)"
   ]
  },
  {
   "cell_type": "code",
   "execution_count": null,
   "metadata": {},
   "outputs": [],
   "source": []
  }
 ],
 "metadata": {
  "kernelspec": {
   "display_name": "Python 3",
   "language": "python",
   "name": "python3"
  },
  "language_info": {
   "codemirror_mode": {
    "name": "ipython",
    "version": 3
   },
   "file_extension": ".py",
   "mimetype": "text/x-python",
   "name": "python",
   "nbconvert_exporter": "python",
   "pygments_lexer": "ipython3",
   "version": "3.6.4"
  }
 },
 "nbformat": 4,
 "nbformat_minor": 2
}
