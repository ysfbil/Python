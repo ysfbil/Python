{
 "cells": [
  {
   "cell_type": "raw",
   "metadata": {},
   "source": [
    "pip install graphics.py   #bu şekilde modülün kurulumunu yapıyoruz."
   ]
  },
  {
   "cell_type": "code",
   "execution_count": 2,
   "metadata": {},
   "outputs": [
    {
     "data": {
      "text/plain": [
       "Point(100.0, 50.0)"
      ]
     },
     "execution_count": 2,
     "metadata": {},
     "output_type": "execute_result"
    }
   ],
   "source": [
    "from graphics import *\n",
    "win = GraphWin()\n",
    "pt = Point(100, 50)\n",
    "pt.draw(win)"
   ]
  },
  {
   "cell_type": "markdown",
   "metadata": {},
   "source": [
    "böylece ekrana 1 nokta çizdik!"
   ]
  },
  {
   "cell_type": "code",
   "execution_count": 10,
   "metadata": {},
   "outputs": [
    {
     "ename": "GraphicsError",
     "evalue": "Can't draw to closed window",
     "output_type": "error",
     "traceback": [
      "\u001b[1;31m---------------------------------------------------------------------------\u001b[0m",
      "\u001b[1;31mGraphicsError\u001b[0m                             Traceback (most recent call last)",
      "Input \u001b[1;32mIn [10]\u001b[0m, in \u001b[0;36m<cell line: 2>\u001b[1;34m()\u001b[0m\n\u001b[0;32m      1\u001b[0m cir \u001b[38;5;241m=\u001b[39m Circle(pt, \u001b[38;5;241m25\u001b[39m)\n\u001b[1;32m----> 2\u001b[0m \u001b[43mcir\u001b[49m\u001b[38;5;241;43m.\u001b[39;49m\u001b[43mdraw\u001b[49m\u001b[43m(\u001b[49m\u001b[43mwin\u001b[49m\u001b[43m)\u001b[49m\n",
      "File \u001b[1;32mF:\\Belgelerim\\KODLARIM\\Python\\graphics\\graphics.py:482\u001b[0m, in \u001b[0;36mGraphicsObject.draw\u001b[1;34m(self, graphwin)\u001b[0m\n\u001b[0;32m    476\u001b[0m \u001b[38;5;124;03m\"\"\"Draw the object in graphwin, which should be a GraphWin\u001b[39;00m\n\u001b[0;32m    477\u001b[0m \u001b[38;5;124;03mobject.  A GraphicsObject may only be drawn into one\u001b[39;00m\n\u001b[0;32m    478\u001b[0m \u001b[38;5;124;03mwindow. Raises an error if attempt made to draw an object that\u001b[39;00m\n\u001b[0;32m    479\u001b[0m \u001b[38;5;124;03mis already visible.\"\"\"\u001b[39;00m\n\u001b[0;32m    481\u001b[0m \u001b[38;5;28;01mif\u001b[39;00m \u001b[38;5;28mself\u001b[39m\u001b[38;5;241m.\u001b[39mcanvas \u001b[38;5;129;01mand\u001b[39;00m \u001b[38;5;129;01mnot\u001b[39;00m \u001b[38;5;28mself\u001b[39m\u001b[38;5;241m.\u001b[39mcanvas\u001b[38;5;241m.\u001b[39misClosed(): \u001b[38;5;28;01mraise\u001b[39;00m GraphicsError(OBJ_ALREADY_DRAWN)\n\u001b[1;32m--> 482\u001b[0m \u001b[38;5;28;01mif\u001b[39;00m graphwin\u001b[38;5;241m.\u001b[39misClosed(): \u001b[38;5;28;01mraise\u001b[39;00m GraphicsError(\u001b[38;5;124m\"\u001b[39m\u001b[38;5;124mCan\u001b[39m\u001b[38;5;124m'\u001b[39m\u001b[38;5;124mt draw to closed window\u001b[39m\u001b[38;5;124m\"\u001b[39m)\n\u001b[0;32m    483\u001b[0m \u001b[38;5;28mself\u001b[39m\u001b[38;5;241m.\u001b[39mcanvas \u001b[38;5;241m=\u001b[39m graphwin\n\u001b[0;32m    484\u001b[0m \u001b[38;5;28mself\u001b[39m\u001b[38;5;241m.\u001b[39mid \u001b[38;5;241m=\u001b[39m \u001b[38;5;28mself\u001b[39m\u001b[38;5;241m.\u001b[39m_draw(graphwin, \u001b[38;5;28mself\u001b[39m\u001b[38;5;241m.\u001b[39mconfig)\n",
      "\u001b[1;31mGraphicsError\u001b[0m: Can't draw to closed window"
     ]
    }
   ],
   "source": [
    "cir = Circle(pt, 25)\n",
    "cir.draw(win)"
   ]
  },
  {
   "cell_type": "code",
   "execution_count": 4,
   "metadata": {},
   "outputs": [],
   "source": [
    "cir.setOutline('red')\n",
    "cir.setFill('blue')"
   ]
  },
  {
   "cell_type": "code",
   "execution_count": 5,
   "metadata": {},
   "outputs": [
    {
     "data": {
      "text/plain": [
       "Line(Point(100.0, 50.0), Point(150.0, 100.0))"
      ]
     },
     "execution_count": 5,
     "metadata": {},
     "output_type": "execute_result"
    }
   ],
   "source": [
    "line = Line(pt, Point(150, 100))\n",
    "line.draw(win)"
   ]
  },
  {
   "cell_type": "code",
   "execution_count": 6,
   "metadata": {},
   "outputs": [
    {
     "data": {
      "text/plain": [
       "Rectangle(Point(20.0, 10.0), Point(100.0, 50.0))"
      ]
     },
     "execution_count": 6,
     "metadata": {},
     "output_type": "execute_result"
    }
   ],
   "source": [
    "rect = Rectangle(Point(20, 10), pt)\n",
    "rect.draw(win)"
   ]
  },
  {
   "cell_type": "code",
   "execution_count": 7,
   "metadata": {},
   "outputs": [],
   "source": [
    "line.move(10, 40)"
   ]
  },
  {
   "cell_type": "code",
   "execution_count": 8,
   "metadata": {},
   "outputs": [
    {
     "name": "stdout",
     "output_type": "stream",
     "text": [
      "cir: Circle(Point(100.0, 50.0), 25)\n",
      "line: Line(Point(110.0, 90.0), Point(160.0, 140.0))\n",
      "rect: Rectangle(Point(20.0, 10.0), Point(100.0, 50.0))\n"
     ]
    }
   ],
   "source": [
    "print('cir:', cir)\n",
    "print('line:', line)\n",
    "print('rect:', rect)"
   ]
  },
  {
   "cell_type": "code",
   "execution_count": 9,
   "metadata": {},
   "outputs": [],
   "source": [
    "win.close()"
   ]
  },
  {
   "cell_type": "code",
   "execution_count": null,
   "metadata": {},
   "outputs": [],
   "source": []
  },
  {
   "cell_type": "raw",
   "metadata": {},
   "source": []
  }
 ],
 "metadata": {
  "kernelspec": {
   "display_name": "Python 3 (ipykernel)",
   "language": "python",
   "name": "python3"
  },
  "language_info": {
   "codemirror_mode": {
    "name": "ipython",
    "version": 3
   },
   "file_extension": ".py",
   "mimetype": "text/x-python",
   "name": "python",
   "nbconvert_exporter": "python",
   "pygments_lexer": "ipython3",
   "version": "3.10.4"
  }
 },
 "nbformat": 4,
 "nbformat_minor": 4
}
