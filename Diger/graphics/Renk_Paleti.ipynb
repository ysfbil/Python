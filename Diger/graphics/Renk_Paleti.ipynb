{
 "cells": [
  {
   "cell_type": "code",
   "execution_count": 108,
   "id": "eca7ca45",
   "metadata": {},
   "outputs": [],
   "source": [
    "from graphics import *\n",
    "win = GraphWin('Ade20k Palette',1366,768)\n",
    "pt = Point(100, 50)"
   ]
  },
  {
   "cell_type": "code",
   "execution_count": 109,
   "id": "f636168f",
   "metadata": {},
   "outputs": [
    {
     "data": {
      "text/plain": [
       "\"\\nboyut = Point(10, 0)\\nkonum = Point(100, 50)\\nrect = Rectangle(konum, boyut)\\nrect.draw(win)\\nrect.setFill('#04c803')\\nlabel = Text(Point(100-(100-10)/2, 50-(50-0)/2), 'Test-1')\\nlabel.draw(win)\\n\\nboyut = Point(110, 0)\\nkonum = Point(200, 50)\\nrect = Rectangle(konum, boyut)\\nrect.draw(win)\\nrect.setFill('red')\\nlabel = Text(Point(200-(200-110)/2, 50-(50-0)/2), 'Test-2')\\nlabel.draw(win)\\n\""
      ]
     },
     "execution_count": 109,
     "metadata": {},
     "output_type": "execute_result"
    }
   ],
   "source": [
    "'''\n",
    "boyut = Point(10, 0)\n",
    "konum = Point(100, 50)\n",
    "rect = Rectangle(konum, boyut)\n",
    "rect.draw(win)\n",
    "rect.setFill('#04c803')\n",
    "label = Text(Point(100-(100-10)/2, 50-(50-0)/2), 'Test-1')\n",
    "label.draw(win)\n",
    "\n",
    "boyut = Point(110, 0)\n",
    "konum = Point(200, 50)\n",
    "rect = Rectangle(konum, boyut)\n",
    "rect.draw(win)\n",
    "rect.setFill('red')\n",
    "label = Text(Point(200-(200-110)/2, 50-(50-0)/2), 'Test-2')\n",
    "label.draw(win)\n",
    "'''"
   ]
  },
  {
   "cell_type": "code",
   "execution_count": 110,
   "id": "9331981c",
   "metadata": {},
   "outputs": [],
   "source": [
    "#win.close()"
   ]
  },
  {
   "cell_type": "code",
   "execution_count": 111,
   "id": "7113508f",
   "metadata": {},
   "outputs": [],
   "source": [
    "CLASSES = (\n",
    "        'wall', 'building', 'sky', 'floor', 'tree', 'ceiling', 'road', 'bed ',\n",
    "        'windowpane', 'grass', 'cabinet', 'sidewalk', 'person', 'earth',\n",
    "        'door', 'table', 'mountain', 'plant', 'curtain', 'chair', 'car',\n",
    "        'water', 'painting', 'sofa', 'shelf', 'house', 'sea', 'mirror', 'rug',\n",
    "        'field', 'armchair', 'seat', 'fence', 'desk', 'rock', 'wardrobe',\n",
    "        'lamp', 'bathtub', 'railing', 'cushion', 'base', 'box', 'column',\n",
    "        'signboard', 'chest of drawers', 'counter', 'sand', 'sink',\n",
    "        'skyscraper', 'fireplace', 'refrigerator', 'grandstand', 'path',\n",
    "        'stairs', 'runway', 'case', 'pool table', 'pillow', 'screen door',\n",
    "        'stairway', 'river', 'bridge', 'bookcase', 'blind', 'coffee table',\n",
    "        'toilet', 'flower', 'book', 'hill', 'bench', 'countertop', 'stove',\n",
    "        'palm', 'kitchen island', 'computer', 'swivel chair', 'boat', 'bar',\n",
    "        'arcade machine', 'hovel', 'bus', 'towel', 'light', 'truck', 'tower',\n",
    "        'chandelier', 'awning', 'streetlight', 'booth', 'television receiver',\n",
    "        'airplane', 'dirt track', 'apparel', 'pole', 'land', 'bannister',\n",
    "        'escalator', 'ottoman', 'bottle', 'buffet', 'poster', 'stage', 'van',\n",
    "        'ship', 'fountain', 'conveyer belt', 'canopy', 'washer', 'plaything',\n",
    "        'swimming pool', 'stool', 'barrel', 'basket', 'waterfall', 'tent',\n",
    "        'bag', 'minibike', 'cradle', 'oven', 'ball', 'food', 'step', 'tank',\n",
    "        'trade name', 'microwave', 'pot', 'animal', 'bicycle', 'lake',\n",
    "        'dishwasher', 'screen', 'blanket', 'sculpture', 'hood', 'sconce',\n",
    "        'vase', 'traffic light', 'tray', 'ashcan', 'fan', 'pier', 'crt screen',\n",
    "        'plate', 'monitor', 'bulletin board', 'shower', 'radiator', 'glass',\n",
    "        'clock', 'flag')\n",
    "\n",
    "PALETTE = [[120, 120, 120], [180, 120, 120], [6, 230, 230], [80, 50, 50],\n",
    "               [4, 200, 3], [120, 120, 80], [140, 140, 140], [204, 5, 255],\n",
    "               [230, 230, 230], [4, 250, 7], [224, 5, 255], [235, 255, 7],\n",
    "               [150, 5, 61], [120, 120, 70], [8, 255, 51], [255, 6, 82],\n",
    "               [143, 255, 140], [204, 255, 4], [255, 51, 7], [204, 70, 3],\n",
    "               [0, 102, 200], [61, 230, 250], [255, 6, 51], [11, 102, 255],\n",
    "               [255, 7, 71], [255, 9, 224], [9, 7, 230], [220, 220, 220],\n",
    "               [255, 9, 92], [112, 9, 255], [8, 255, 214], [7, 255, 224],\n",
    "               [255, 184, 6], [10, 255, 71], [255, 41, 10], [7, 255, 255],\n",
    "               [224, 255, 8], [102, 8, 255], [255, 61, 6], [255, 194, 7],\n",
    "               [255, 122, 8], [0, 255, 20], [255, 8, 41], [255, 5, 153],\n",
    "               [6, 51, 255], [235, 12, 255], [160, 150, 20], [0, 163, 255],\n",
    "               [140, 140, 140], [250, 10, 15], [20, 255, 0], [31, 255, 0],\n",
    "               [255, 31, 0], [255, 224, 0], [153, 255, 0], [0, 0, 255],\n",
    "               [255, 71, 0], [0, 235, 255], [0, 173, 255], [31, 0, 255],\n",
    "               [11, 200, 200], [255, 82, 0], [0, 255, 245], [0, 61, 255],\n",
    "               [0, 255, 112], [0, 255, 133], [255, 0, 0], [255, 163, 0],\n",
    "               [255, 102, 0], [194, 255, 0], [0, 143, 255], [51, 255, 0],\n",
    "               [0, 82, 255], [0, 255, 41], [0, 255, 173], [10, 0, 255],\n",
    "               [173, 255, 0], [0, 255, 153], [255, 92, 0], [255, 0, 255],\n",
    "               [255, 0, 245], [255, 0, 102], [255, 173, 0], [255, 0, 20],\n",
    "               [255, 184, 184], [0, 31, 255], [0, 255, 61], [0, 71, 255],\n",
    "               [255, 0, 204], [0, 255, 194], [0, 255, 82], [0, 10, 255],\n",
    "               [0, 112, 255], [51, 0, 255], [0, 194, 255], [0, 122, 255],\n",
    "               [0, 255, 163], [255, 153, 0], [0, 255, 10], [255, 112, 0],\n",
    "               [143, 255, 0], [82, 0, 255], [163, 255, 0], [255, 235, 0],\n",
    "               [8, 184, 170], [133, 0, 255], [0, 255, 92], [184, 0, 255],\n",
    "               [255, 0, 31], [0, 184, 255], [0, 214, 255], [255, 0, 112],\n",
    "               [92, 255, 0], [0, 224, 255], [112, 224, 255], [70, 184, 160],\n",
    "               [163, 0, 255], [153, 0, 255], [71, 255, 0], [255, 0, 163],\n",
    "               [255, 204, 0], [255, 0, 143], [0, 255, 235], [133, 255, 0],\n",
    "               [255, 0, 235], [245, 0, 255], [255, 0, 122], [255, 245, 0],\n",
    "               [10, 190, 212], [214, 255, 0], [0, 204, 255], [20, 0, 255],\n",
    "               [255, 255, 0], [0, 153, 255], [0, 41, 255], [0, 255, 204],\n",
    "               [41, 0, 255], [41, 255, 0], [173, 0, 255], [0, 245, 255],\n",
    "               [71, 0, 255], [122, 0, 255], [0, 255, 184], [0, 92, 255],\n",
    "               [184, 255, 0], [0, 133, 255], [255, 214, 0], [25, 194, 194],\n",
    "               [102, 255, 0], [92, 0, 255]]"
   ]
  },
  {
   "cell_type": "code",
   "execution_count": 112,
   "id": "c3b86c5c",
   "metadata": {},
   "outputs": [
    {
     "name": "stdout",
     "output_type": "stream",
     "text": [
      "[4, 200, 3]\n",
      "200\n",
      "c8\n"
     ]
    }
   ],
   "source": [
    "print(PALETTE[4])\n",
    "print(PALETTE[4][1])\n",
    "print(hex(PALETTE[4][1])[2:])"
   ]
  },
  {
   "cell_type": "code",
   "execution_count": 113,
   "id": "8b719b51",
   "metadata": {},
   "outputs": [
    {
     "data": {
      "text/plain": [
       "\"def renkKodu(ind):\\n    kod=''\\n    tmp=''\\n    \\n    for i in range(3):\\n        tmp=hex(PALETTE[ind][i])[2:]\\n        if (len(tmp)<2):\\n            tmp='0'+tmp\\n        kod +=tmp\\n        \\n    return '#'+kod\\n\""
      ]
     },
     "execution_count": 113,
     "metadata": {},
     "output_type": "execute_result"
    }
   ],
   "source": [
    "# #color_rgb fonksiyonu aynı işlevi görüyor\n",
    "'''def renkKodu(ind):\n",
    "    kod=''\n",
    "    tmp=''\n",
    "    \n",
    "    for i in range(3):\n",
    "        tmp=hex(PALETTE[ind][i])[2:]\n",
    "        if (len(tmp)<2):\n",
    "            tmp='0'+tmp\n",
    "        kod +=tmp\n",
    "        \n",
    "    return '#'+kod\n",
    "'''"
   ]
  },
  {
   "cell_type": "code",
   "execution_count": 114,
   "id": "37a12c48",
   "metadata": {},
   "outputs": [],
   "source": [
    "def renkKodu(ind):\n",
    "    return color_rgb(PALETTE[ind][0], PALETTE[ind][1], PALETTE[ind][2])"
   ]
  },
  {
   "cell_type": "code",
   "execution_count": 115,
   "id": "9a67ab62",
   "metadata": {},
   "outputs": [
    {
     "name": "stdout",
     "output_type": "stream",
     "text": [
      "#04c803\n"
     ]
    }
   ],
   "source": [
    "print(renkKodu(4))"
   ]
  },
  {
   "cell_type": "code",
   "execution_count": 116,
   "id": "076e39f0",
   "metadata": {},
   "outputs": [],
   "source": [
    "i,k,r=0,0,0\n",
    "\n",
    "for c in CLASSES:\n",
    "    if ((k+1) % 10)==0:\n",
    "        r+=1\n",
    "        k=0\n",
    "    k+=1\n",
    "    x1,y1,x2,y2=100*k+10, 60*r,100*k+100, 60*r+50\n",
    "    boyut = Point(x1,y1)\n",
    "    konum = Point(x2,y2)\n",
    "    rect = Rectangle(konum, boyut)\n",
    "    rect.draw(win)\n",
    "    rect.setFill(renkKodu(i))\n",
    "    label = Text(Point(x2-(x2-x1)/2, y2-(y2-y1)/2), CLASSES[i])\n",
    "    label.draw(win)\n",
    "    i+=1\n",
    "    if i==75: break\n",
    "\n",
    "win.getMouse()\n",
    "win.close()"
   ]
  },
  {
   "cell_type": "code",
   "execution_count": null,
   "id": "6404ee75",
   "metadata": {},
   "outputs": [],
   "source": []
  },
  {
   "cell_type": "code",
   "execution_count": null,
   "id": "ab13b2a4",
   "metadata": {},
   "outputs": [],
   "source": []
  },
  {
   "cell_type": "code",
   "execution_count": null,
   "id": "357e21b4",
   "metadata": {},
   "outputs": [],
   "source": []
  }
 ],
 "metadata": {
  "kernelspec": {
   "display_name": "Python 3 (ipykernel)",
   "language": "python",
   "name": "python3"
  },
  "language_info": {
   "codemirror_mode": {
    "name": "ipython",
    "version": 3
   },
   "file_extension": ".py",
   "mimetype": "text/x-python",
   "name": "python",
   "nbconvert_exporter": "python",
   "pygments_lexer": "ipython3",
   "version": "3.10.4"
  }
 },
 "nbformat": 4,
 "nbformat_minor": 5
}
