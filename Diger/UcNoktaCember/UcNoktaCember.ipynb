{
 "cells": [
  {
   "cell_type": "markdown",
   "id": "64489a70",
   "metadata": {},
   "source": [
    "# Yusuf Bilgen\n",
    "# 210304001"
   ]
  },
  {
   "cell_type": "code",
   "execution_count": 184,
   "id": "81993bb1",
   "metadata": {},
   "outputs": [],
   "source": [
    "from math import sqrt"
   ]
  },
  {
   "cell_type": "code",
   "execution_count": 185,
   "id": "d46383cc",
   "metadata": {},
   "outputs": [],
   "source": [
    "# Nokta sınıfı\n",
    "class Nokta:  \n",
    "    def __init__(self, x, y):\n",
    "        self.x = x\n",
    "        self.y = y\n",
    "    # Nokta nesnesi içinde iki nokta arası mesafe hesaplayan metot\n",
    "    def iki_nokta_arası_mesafe(self, nokta2):  \n",
    "        return sqrt(pow((self.x - nokta2.x), 2) + pow((self.y - nokta2.y), 2))"
   ]
  },
  {
   "cell_type": "code",
   "execution_count": 186,
   "id": "8d9bf091",
   "metadata": {},
   "outputs": [],
   "source": [
    "# nokta nesnesinden türetilen nokta örneğini argüman olarak alan doğru nesnesi\n",
    "class Dogru:  \n",
    "    def __init__(self, nokta1, nokta2):\n",
    "        self.nokta1 = Nokta(nokta1.x, nokta1.y)\n",
    "        self.nokta2 = Nokta(nokta2.x, nokta2.y)\n",
    "#doğru kesişim metodu\n",
    "    def dogru_kesisim(self, dogru2):\n",
    "        X1, Y1 = self.nokta1.x, self.nokta1.y\n",
    "        X2, Y2 = self.nokta2.x, self.nokta2.y\n",
    "        X3, Y3 = dogru2.nokta1.x, dogru2.nokta1.y\n",
    "        X4, Y4 = dogru2.nokta2.x, dogru2.nokta2.y\n",
    "\n",
    "        # UA VE UB hesaplama\n",
    "        ua_pay = ((X4 - X3) * (Y1 - Y3) - (Y4 - Y3) * (X1 - X3))\n",
    "        ub_pay = ((X2 - X1) * (Y1 - Y3) - (Y2 - Y1) * (X1 - X3))\n",
    "        uab_payda = ((Y4 - Y3) * (X2 - X1) - (X4 - X3) * (Y2 - Y1))\n",
    "        \n",
    "        #Birbirine yakın doğrular çember oluşturmaz.\n",
    "        if (uab_payda == 0) and (ua_pay == 0) and (ub_pay == 0):  \n",
    "            return False\n",
    "        else:  # eğer doğrular bir noktada kesişiyorsa Doğru değerini döndür.\n",
    "            return True"
   ]
  },
  {
   "cell_type": "code",
   "execution_count": 187,
   "id": "d98c0d78",
   "metadata": {},
   "outputs": [],
   "source": [
    " # 3 noktayı argüman alan bir çember nesnesi\n",
    "class Cember:\n",
    "    def __init__(self, nokta1, nokta2, nokta3): \n",
    "        self.nokta1 = Nokta(nokta1.x, nokta1.y)\n",
    "        self.nokta2 = Nokta(nokta2.x, nokta2.y)\n",
    "        self.nokta3 = Nokta(nokta3.x, nokta3.y)\n",
    "        self.OtomatikSira()\n",
    "\n",
    "    \n",
    "    \n",
    "    def OtomatikSira(self):\n",
    "        x1, y1 = self.nokta1.x, self.nokta1.y\n",
    "        x2, y2 = self.nokta2.x, self.nokta2.y\n",
    "        x3, y3 = self.nokta3.x, self.nokta3.y\n",
    "\n",
    "        if x1 == x2:\n",
    "            self.nokta2, self.nokta3 = self.nokta3, self.nokta2\n",
    "        elif x2 == x3:\n",
    "            self.nokta1, self.nokta2 = self.nokta2, self.nokta1\n",
    "        elif y1 == y2:\n",
    "            self.nokta2, self.nokta3 = self.nokta3, self.nokta2\n",
    "        elif y2 == y3:\n",
    "            self.nokta1, self.nokta2 = self.nokta2, self.nokta1\n",
    "\n",
    "    \n",
    "    \n",
    "#çemberin merkez noktası ve yarıçap uzunluğu bulan bir fonksiyon\n",
    "    def MerkezVeYaricap(self):\n",
    "        x1, y1 = self.nokta1.x, self.nokta1.y\n",
    "        x2, y2 = self.nokta2.x, self.nokta2.y\n",
    "        x3, y3 = self.nokta3.x, self.nokta3.y\n",
    "        #İki doğru oluşturdum(d1 ve d2), bu doğrular çemberin çevresinden geçen iki çizgidir.\n",
    "        d1 = Dogru(Nokta(x1, y1), Nokta(x2, y2))\n",
    "        d2 = Dogru(Nokta(x2, y2), Nokta(x3, y3))\n",
    "\n",
    "        kesisimDurum = d1.dogru_kesisim(d2)\n",
    "        #İki doğrunun kesişme durumu kontrol edilir. Eğer doğrular çakışıksa, çember oluşmaz ve False değeri döndürülür.\n",
    "        if  kesisimDurum == False:\n",
    "            print(\"3 nokta aynı doğru üzerinde olduğu için çember oluşmaz\")\n",
    "            return False\n",
    "               \n",
    "        \n",
    "        ma = (y2 - y1) / (x2 - x1)  # a doğrusu eğimi\n",
    "        mb = (y3 - y2) / (x3 - x2)  # b doğrusu eğimi\n",
    "             \n",
    "      \n",
    "\n",
    "        if mb - ma == 0.0:  # mb - ma = 0 ise paraleldir çember oluşturmaz\n",
    "            print(\"Doğrular Paraleldir çember oluşmaz\")\n",
    "            return False\n",
    "        \n",
    "        \n",
    "\n",
    "        x = (ma * mb * (y1 - y3) + mb * (x1 + x2) - ma * (x2 + x3)) / (2 * (mb - ma))  # x değeri\n",
    "        ya_ = (-1 / ma) * (x - ((x1 + x2) / 2)) + ((y1 + y2) / 2)  # (ya') değeri\n",
    "        yb_ = (-1 / mb) * (x - ((x2 + x3) / 2)) + ((y2 + y3) / 2)  # (yb') değeri\n",
    "       \n",
    "        print(\"Çemberin merkezi: {0},{1}  \".format(x, ya_))\n",
    "        yaricap = self.nokta1.iki_nokta_arası_mesafe(Nokta(x, yb_))  # yarıçap\n",
    "        print(\"Çemberin yarıçapı : {0}\".format(yaricap))\n",
    "        \n"
   ]
  },
  {
   "cell_type": "code",
   "execution_count": 188,
   "id": "9c3dd396",
   "metadata": {},
   "outputs": [
    {
     "name": "stdout",
     "output_type": "stream",
     "text": [
      "Çemberin merkezi: 4.00595,2.9940499999999997  \n",
      "Çemberin yarıçapı : 1.9940588770144172\n"
     ]
    }
   ],
   "source": [
    "#Testler\n",
    "#Yazdığınız çember metoduna su üç noktayı (x,y) göndererek merkezini ve yarıçapını hesaplatın: (6,3), (4,1), (2.59,1.59)\n",
    "\n",
    "P1 = Nokta(6, 3)  \n",
    "P2 = Nokta(4, 1)\n",
    "P3 = Nokta(2.59, 1.59)\n",
    "\n",
    "cember = Cember(P1, P2, P3)  # global bir Çember nesnesi oluşturduk\n",
    "cember.MerkezVeYaricap()"
   ]
  },
  {
   "cell_type": "code",
   "execution_count": 189,
   "id": "89edbf59",
   "metadata": {
    "scrolled": true
   },
   "outputs": [
    {
     "name": "stdout",
     "output_type": "stream",
     "text": [
      "3 nokta aynı doğru üzerinde olduğu için çember oluşmaz\n"
     ]
    },
    {
     "data": {
      "text/plain": [
       "False"
      ]
     },
     "execution_count": 189,
     "metadata": {},
     "output_type": "execute_result"
    }
   ],
   "source": [
    "#Yazdığınız çember metoduna aynı doğru üzerinde olan şu üç noktayı (x,y) gönderin: (1,1), (2,2), (3,3).\n",
    "#Burada program hata vermemeli ancak ekranda “3 nokta aynı doğru üzerinde olduğu için çember oluşmaz” yazsın\n",
    "P1 = Nokta(1, 1) \n",
    "P2 = Nokta(2, 2)\n",
    "P3 = Nokta(3, 3)\n",
    "\n",
    "cember = Cember(P1, P2, P3)  # global bir Çember nesnesi oluşturduk\n",
    "cember.MerkezVeYaricap()"
   ]
  },
  {
   "cell_type": "code",
   "execution_count": 190,
   "id": "64cfea14",
   "metadata": {},
   "outputs": [
    {
     "name": "stdout",
     "output_type": "stream",
     "text": [
      "Çemberin merkezi: 0.5,1.5  \n",
      "Çemberin yarıçapı : 1.5811388300841898\n"
     ]
    }
   ],
   "source": [
    "#Eğer iki doğrudan birisi X veya Y eksenine dik ise bu doğrunun eğimi sonsuz çıkabilir ve program hata\n",
    "#verebilir. Bu hatayı çözmek için noktaların sırası yeniden otomatik olarak düzenlenmelidir. Sırayı\n",
    "#değiştirmeden test etmeniz için 3 nokta (0,0), (1,0), (2,1).\n",
    "P1 = Nokta(0, 0)  \n",
    "P2 = Nokta(1, 0)\n",
    "P3 = Nokta(2, 1)\n",
    "\n",
    "cember = Cember(P1, P2, P3)  # global bir Çember nesnesi oluşturduk\n",
    "cember.MerkezVeYaricap()\n"
   ]
  },
  {
   "cell_type": "code",
   "execution_count": 191,
   "id": "af77831c",
   "metadata": {},
   "outputs": [
    {
     "name": "stdout",
     "output_type": "stream",
     "text": [
      "Çemberin merkezi: 1.5,0.5  \n",
      "Çemberin yarıçapı : 1.5811388300841898\n"
     ]
    }
   ],
   "source": [
    "#Şu 3 nokta için de kodlarınızı sırası değişmeden test edin: (0,0), (0,1), (1,2) \n",
    "P1 = Nokta(0, 0) \n",
    "P2 = Nokta(0, 1)\n",
    "P3 = Nokta(1, 2)\n",
    "\n",
    "cember = Cember(P1, P2, P3)  # global bir Çember nesnesi oluşturduk\n",
    "cember.MerkezVeYaricap()"
   ]
  },
  {
   "cell_type": "code",
   "execution_count": null,
   "id": "a2f707ef",
   "metadata": {},
   "outputs": [],
   "source": []
  },
  {
   "cell_type": "code",
   "execution_count": null,
   "id": "583ce3ed",
   "metadata": {},
   "outputs": [],
   "source": []
  }
 ],
 "metadata": {
  "kernelspec": {
   "display_name": "Python 3 (ipykernel)",
   "language": "python",
   "name": "python3"
  },
  "language_info": {
   "codemirror_mode": {
    "name": "ipython",
    "version": 3
   },
   "file_extension": ".py",
   "mimetype": "text/x-python",
   "name": "python",
   "nbconvert_exporter": "python",
   "pygments_lexer": "ipython3",
   "version": "3.10.4"
  }
 },
 "nbformat": 4,
 "nbformat_minor": 5
}
